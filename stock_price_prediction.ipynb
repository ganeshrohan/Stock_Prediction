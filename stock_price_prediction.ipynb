{
  "nbformat": 4,
  "nbformat_minor": 0,
  "metadata": {
    "colab": {
      "provenance": [],
      "authorship_tag": "ABX9TyNxeKjDyoM0Nh/mrqTi8A8f",
      "include_colab_link": true
    },
    "kernelspec": {
      "name": "python3",
      "display_name": "Python 3"
    },
    "language_info": {
      "name": "python"
    },
    "accelerator": "TPU"
  },
  "cells": [
    {
      "cell_type": "markdown",
      "metadata": {
        "id": "view-in-github",
        "colab_type": "text"
      },
      "source": [
        "<a href=\"https://colab.research.google.com/github/ganeshrohan/Stock_Prediction/blob/main/stock_price_prediction.ipynb\" target=\"_parent\"><img src=\"https://colab.research.google.com/assets/colab-badge.svg\" alt=\"Open In Colab\"/></a>"
      ]
    },
    {
      "cell_type": "code",
      "execution_count": 78,
      "metadata": {
        "id": "vs-inpK-tJQj"
      },
      "outputs": [],
      "source": [
        "import pandas as pd\n",
        "import numpy as np\n",
        "import matplotlib.pyplot as plt\n",
        "import seaborn as sns\n",
        "from sklearn.model_selection import train_test_split\n",
        "\n",
        "\n",
        "from sklearn.model_selection import GridSearchCV\n",
        "from sklearn.pipeline import Pipeline\n",
        "from sklearn.preprocessing import PolynomialFeatures\n",
        "from sklearn.linear_model import LinearRegression,Lasso,Ridge,ElasticNet\n",
        "from sklearn.metrics import mean_squared_error,mean_absolute_error,r2_score\n",
        "from sklearn.model_selection import TimeSeriesSplit\n",
        "from sklearn.preprocessing import StandardScaler,MinMaxScaler\n",
        "\n",
        "from statsmodels.tsa.seasonal import seasonal_decompose"
      ]
    },
    {
      "cell_type": "code",
      "source": [
        "data = pd.read_csv('https://raw.githubusercontent.com/dhiwakarK/StockPredictionWhitepaper/main/individual_stocks_5yr/individual_stocks_5yr/ACN_data.csv')\n",
        "##('/content/ACN.csv')"
      ],
      "metadata": {
        "id": "cRYflkeetMr6"
      },
      "execution_count": 79,
      "outputs": []
    },
    {
      "cell_type": "code",
      "source": [
        "data.tail()"
      ],
      "metadata": {
        "colab": {
          "base_uri": "https://localhost:8080/",
          "height": 206
        },
        "id": "elQFOgMKtSbR",
        "outputId": "bd3ea2c7-7a9f-44a8-deae-7aad2368cb51"
      },
      "execution_count": 80,
      "outputs": [
        {
          "output_type": "execute_result",
          "data": {
            "text/plain": [
              "            date     open    high     low   close   volume Name\n",
              "1254  2018-02-01  160.155  161.13  159.54  160.46  1692576  ACN\n",
              "1255  2018-02-02  159.980  160.27  156.63  156.90  2183611  ACN\n",
              "1256  2018-02-05  156.120  159.27  150.73  151.83  3733711  ACN\n",
              "1257  2018-02-06  150.290  155.18  149.43  154.69  4259634  ACN\n",
              "1258  2018-02-07  154.220  158.93  153.07  155.15  2918659  ACN"
            ],
            "text/html": [
              "\n",
              "  <div id=\"df-0e8008c5-daad-4e7e-9c90-30d28f7149ae\" class=\"colab-df-container\">\n",
              "    <div>\n",
              "<style scoped>\n",
              "    .dataframe tbody tr th:only-of-type {\n",
              "        vertical-align: middle;\n",
              "    }\n",
              "\n",
              "    .dataframe tbody tr th {\n",
              "        vertical-align: top;\n",
              "    }\n",
              "\n",
              "    .dataframe thead th {\n",
              "        text-align: right;\n",
              "    }\n",
              "</style>\n",
              "<table border=\"1\" class=\"dataframe\">\n",
              "  <thead>\n",
              "    <tr style=\"text-align: right;\">\n",
              "      <th></th>\n",
              "      <th>date</th>\n",
              "      <th>open</th>\n",
              "      <th>high</th>\n",
              "      <th>low</th>\n",
              "      <th>close</th>\n",
              "      <th>volume</th>\n",
              "      <th>Name</th>\n",
              "    </tr>\n",
              "  </thead>\n",
              "  <tbody>\n",
              "    <tr>\n",
              "      <th>1254</th>\n",
              "      <td>2018-02-01</td>\n",
              "      <td>160.155</td>\n",
              "      <td>161.13</td>\n",
              "      <td>159.54</td>\n",
              "      <td>160.46</td>\n",
              "      <td>1692576</td>\n",
              "      <td>ACN</td>\n",
              "    </tr>\n",
              "    <tr>\n",
              "      <th>1255</th>\n",
              "      <td>2018-02-02</td>\n",
              "      <td>159.980</td>\n",
              "      <td>160.27</td>\n",
              "      <td>156.63</td>\n",
              "      <td>156.90</td>\n",
              "      <td>2183611</td>\n",
              "      <td>ACN</td>\n",
              "    </tr>\n",
              "    <tr>\n",
              "      <th>1256</th>\n",
              "      <td>2018-02-05</td>\n",
              "      <td>156.120</td>\n",
              "      <td>159.27</td>\n",
              "      <td>150.73</td>\n",
              "      <td>151.83</td>\n",
              "      <td>3733711</td>\n",
              "      <td>ACN</td>\n",
              "    </tr>\n",
              "    <tr>\n",
              "      <th>1257</th>\n",
              "      <td>2018-02-06</td>\n",
              "      <td>150.290</td>\n",
              "      <td>155.18</td>\n",
              "      <td>149.43</td>\n",
              "      <td>154.69</td>\n",
              "      <td>4259634</td>\n",
              "      <td>ACN</td>\n",
              "    </tr>\n",
              "    <tr>\n",
              "      <th>1258</th>\n",
              "      <td>2018-02-07</td>\n",
              "      <td>154.220</td>\n",
              "      <td>158.93</td>\n",
              "      <td>153.07</td>\n",
              "      <td>155.15</td>\n",
              "      <td>2918659</td>\n",
              "      <td>ACN</td>\n",
              "    </tr>\n",
              "  </tbody>\n",
              "</table>\n",
              "</div>\n",
              "    <div class=\"colab-df-buttons\">\n",
              "\n",
              "  <div class=\"colab-df-container\">\n",
              "    <button class=\"colab-df-convert\" onclick=\"convertToInteractive('df-0e8008c5-daad-4e7e-9c90-30d28f7149ae')\"\n",
              "            title=\"Convert this dataframe to an interactive table.\"\n",
              "            style=\"display:none;\">\n",
              "\n",
              "  <svg xmlns=\"http://www.w3.org/2000/svg\" height=\"24px\" viewBox=\"0 -960 960 960\">\n",
              "    <path d=\"M120-120v-720h720v720H120Zm60-500h600v-160H180v160Zm220 220h160v-160H400v160Zm0 220h160v-160H400v160ZM180-400h160v-160H180v160Zm440 0h160v-160H620v160ZM180-180h160v-160H180v160Zm440 0h160v-160H620v160Z\"/>\n",
              "  </svg>\n",
              "    </button>\n",
              "\n",
              "  <style>\n",
              "    .colab-df-container {\n",
              "      display:flex;\n",
              "      gap: 12px;\n",
              "    }\n",
              "\n",
              "    .colab-df-convert {\n",
              "      background-color: #E8F0FE;\n",
              "      border: none;\n",
              "      border-radius: 50%;\n",
              "      cursor: pointer;\n",
              "      display: none;\n",
              "      fill: #1967D2;\n",
              "      height: 32px;\n",
              "      padding: 0 0 0 0;\n",
              "      width: 32px;\n",
              "    }\n",
              "\n",
              "    .colab-df-convert:hover {\n",
              "      background-color: #E2EBFA;\n",
              "      box-shadow: 0px 1px 2px rgba(60, 64, 67, 0.3), 0px 1px 3px 1px rgba(60, 64, 67, 0.15);\n",
              "      fill: #174EA6;\n",
              "    }\n",
              "\n",
              "    .colab-df-buttons div {\n",
              "      margin-bottom: 4px;\n",
              "    }\n",
              "\n",
              "    [theme=dark] .colab-df-convert {\n",
              "      background-color: #3B4455;\n",
              "      fill: #D2E3FC;\n",
              "    }\n",
              "\n",
              "    [theme=dark] .colab-df-convert:hover {\n",
              "      background-color: #434B5C;\n",
              "      box-shadow: 0px 1px 3px 1px rgba(0, 0, 0, 0.15);\n",
              "      filter: drop-shadow(0px 1px 2px rgba(0, 0, 0, 0.3));\n",
              "      fill: #FFFFFF;\n",
              "    }\n",
              "  </style>\n",
              "\n",
              "    <script>\n",
              "      const buttonEl =\n",
              "        document.querySelector('#df-0e8008c5-daad-4e7e-9c90-30d28f7149ae button.colab-df-convert');\n",
              "      buttonEl.style.display =\n",
              "        google.colab.kernel.accessAllowed ? 'block' : 'none';\n",
              "\n",
              "      async function convertToInteractive(key) {\n",
              "        const element = document.querySelector('#df-0e8008c5-daad-4e7e-9c90-30d28f7149ae');\n",
              "        const dataTable =\n",
              "          await google.colab.kernel.invokeFunction('convertToInteractive',\n",
              "                                                    [key], {});\n",
              "        if (!dataTable) return;\n",
              "\n",
              "        const docLinkHtml = 'Like what you see? Visit the ' +\n",
              "          '<a target=\"_blank\" href=https://colab.research.google.com/notebooks/data_table.ipynb>data table notebook</a>'\n",
              "          + ' to learn more about interactive tables.';\n",
              "        element.innerHTML = '';\n",
              "        dataTable['output_type'] = 'display_data';\n",
              "        await google.colab.output.renderOutput(dataTable, element);\n",
              "        const docLink = document.createElement('div');\n",
              "        docLink.innerHTML = docLinkHtml;\n",
              "        element.appendChild(docLink);\n",
              "      }\n",
              "    </script>\n",
              "  </div>\n",
              "\n",
              "\n",
              "<div id=\"df-c5ee79a7-d830-46c6-a371-2fbb7ff101ea\">\n",
              "  <button class=\"colab-df-quickchart\" onclick=\"quickchart('df-c5ee79a7-d830-46c6-a371-2fbb7ff101ea')\"\n",
              "            title=\"Suggest charts\"\n",
              "            style=\"display:none;\">\n",
              "\n",
              "<svg xmlns=\"http://www.w3.org/2000/svg\" height=\"24px\"viewBox=\"0 0 24 24\"\n",
              "     width=\"24px\">\n",
              "    <g>\n",
              "        <path d=\"M19 3H5c-1.1 0-2 .9-2 2v14c0 1.1.9 2 2 2h14c1.1 0 2-.9 2-2V5c0-1.1-.9-2-2-2zM9 17H7v-7h2v7zm4 0h-2V7h2v10zm4 0h-2v-4h2v4z\"/>\n",
              "    </g>\n",
              "</svg>\n",
              "  </button>\n",
              "\n",
              "<style>\n",
              "  .colab-df-quickchart {\n",
              "      --bg-color: #E8F0FE;\n",
              "      --fill-color: #1967D2;\n",
              "      --hover-bg-color: #E2EBFA;\n",
              "      --hover-fill-color: #174EA6;\n",
              "      --disabled-fill-color: #AAA;\n",
              "      --disabled-bg-color: #DDD;\n",
              "  }\n",
              "\n",
              "  [theme=dark] .colab-df-quickchart {\n",
              "      --bg-color: #3B4455;\n",
              "      --fill-color: #D2E3FC;\n",
              "      --hover-bg-color: #434B5C;\n",
              "      --hover-fill-color: #FFFFFF;\n",
              "      --disabled-bg-color: #3B4455;\n",
              "      --disabled-fill-color: #666;\n",
              "  }\n",
              "\n",
              "  .colab-df-quickchart {\n",
              "    background-color: var(--bg-color);\n",
              "    border: none;\n",
              "    border-radius: 50%;\n",
              "    cursor: pointer;\n",
              "    display: none;\n",
              "    fill: var(--fill-color);\n",
              "    height: 32px;\n",
              "    padding: 0;\n",
              "    width: 32px;\n",
              "  }\n",
              "\n",
              "  .colab-df-quickchart:hover {\n",
              "    background-color: var(--hover-bg-color);\n",
              "    box-shadow: 0 1px 2px rgba(60, 64, 67, 0.3), 0 1px 3px 1px rgba(60, 64, 67, 0.15);\n",
              "    fill: var(--button-hover-fill-color);\n",
              "  }\n",
              "\n",
              "  .colab-df-quickchart-complete:disabled,\n",
              "  .colab-df-quickchart-complete:disabled:hover {\n",
              "    background-color: var(--disabled-bg-color);\n",
              "    fill: var(--disabled-fill-color);\n",
              "    box-shadow: none;\n",
              "  }\n",
              "\n",
              "  .colab-df-spinner {\n",
              "    border: 2px solid var(--fill-color);\n",
              "    border-color: transparent;\n",
              "    border-bottom-color: var(--fill-color);\n",
              "    animation:\n",
              "      spin 1s steps(1) infinite;\n",
              "  }\n",
              "\n",
              "  @keyframes spin {\n",
              "    0% {\n",
              "      border-color: transparent;\n",
              "      border-bottom-color: var(--fill-color);\n",
              "      border-left-color: var(--fill-color);\n",
              "    }\n",
              "    20% {\n",
              "      border-color: transparent;\n",
              "      border-left-color: var(--fill-color);\n",
              "      border-top-color: var(--fill-color);\n",
              "    }\n",
              "    30% {\n",
              "      border-color: transparent;\n",
              "      border-left-color: var(--fill-color);\n",
              "      border-top-color: var(--fill-color);\n",
              "      border-right-color: var(--fill-color);\n",
              "    }\n",
              "    40% {\n",
              "      border-color: transparent;\n",
              "      border-right-color: var(--fill-color);\n",
              "      border-top-color: var(--fill-color);\n",
              "    }\n",
              "    60% {\n",
              "      border-color: transparent;\n",
              "      border-right-color: var(--fill-color);\n",
              "    }\n",
              "    80% {\n",
              "      border-color: transparent;\n",
              "      border-right-color: var(--fill-color);\n",
              "      border-bottom-color: var(--fill-color);\n",
              "    }\n",
              "    90% {\n",
              "      border-color: transparent;\n",
              "      border-bottom-color: var(--fill-color);\n",
              "    }\n",
              "  }\n",
              "</style>\n",
              "\n",
              "  <script>\n",
              "    async function quickchart(key) {\n",
              "      const quickchartButtonEl =\n",
              "        document.querySelector('#' + key + ' button');\n",
              "      quickchartButtonEl.disabled = true;  // To prevent multiple clicks.\n",
              "      quickchartButtonEl.classList.add('colab-df-spinner');\n",
              "      try {\n",
              "        const charts = await google.colab.kernel.invokeFunction(\n",
              "            'suggestCharts', [key], {});\n",
              "      } catch (error) {\n",
              "        console.error('Error during call to suggestCharts:', error);\n",
              "      }\n",
              "      quickchartButtonEl.classList.remove('colab-df-spinner');\n",
              "      quickchartButtonEl.classList.add('colab-df-quickchart-complete');\n",
              "    }\n",
              "    (() => {\n",
              "      let quickchartButtonEl =\n",
              "        document.querySelector('#df-c5ee79a7-d830-46c6-a371-2fbb7ff101ea button');\n",
              "      quickchartButtonEl.style.display =\n",
              "        google.colab.kernel.accessAllowed ? 'block' : 'none';\n",
              "    })();\n",
              "  </script>\n",
              "</div>\n",
              "\n",
              "    </div>\n",
              "  </div>\n"
            ],
            "application/vnd.google.colaboratory.intrinsic+json": {
              "type": "dataframe",
              "repr_error": "0"
            }
          },
          "metadata": {},
          "execution_count": 80
        }
      ]
    },
    {
      "cell_type": "code",
      "source": [
        "data.info()"
      ],
      "metadata": {
        "colab": {
          "base_uri": "https://localhost:8080/"
        },
        "id": "rJfgirSktddB",
        "outputId": "ec5dd81c-bf37-4b69-e0e9-052e602c229e"
      },
      "execution_count": 81,
      "outputs": [
        {
          "output_type": "stream",
          "name": "stdout",
          "text": [
            "<class 'pandas.core.frame.DataFrame'>\n",
            "RangeIndex: 1259 entries, 0 to 1258\n",
            "Data columns (total 7 columns):\n",
            " #   Column  Non-Null Count  Dtype  \n",
            "---  ------  --------------  -----  \n",
            " 0   date    1259 non-null   object \n",
            " 1   open    1259 non-null   float64\n",
            " 2   high    1259 non-null   float64\n",
            " 3   low     1259 non-null   float64\n",
            " 4   close   1259 non-null   float64\n",
            " 5   volume  1259 non-null   int64  \n",
            " 6   Name    1259 non-null   object \n",
            "dtypes: float64(4), int64(1), object(2)\n",
            "memory usage: 69.0+ KB\n"
          ]
        }
      ]
    },
    {
      "cell_type": "code",
      "source": [
        "data.describe()"
      ],
      "metadata": {
        "colab": {
          "base_uri": "https://localhost:8080/",
          "height": 300
        },
        "id": "i8IM__gctfw8",
        "outputId": "f38c76da-7878-4c07-b97a-a1fc6ed53fba"
      },
      "execution_count": 82,
      "outputs": [
        {
          "output_type": "execute_result",
          "data": {
            "text/plain": [
              "              open         high          low        close        volume\n",
              "count  1259.000000  1259.000000  1259.000000  1259.000000  1.259000e+03\n",
              "mean    101.022826   101.766440   100.348163   101.119079  2.596238e+06\n",
              "std      22.105091    22.206993    21.999712    22.129031  1.353507e+06\n",
              "min      70.580000    70.750000    69.000000    70.280000  6.018180e+05\n",
              "25%      80.680000    81.330000    80.165000    80.670000  1.879082e+06\n",
              "50%      97.800000    98.790000    96.920000    97.770000  2.328702e+06\n",
              "75%     117.020000   117.990000   116.250000   117.045000  2.972384e+06\n",
              "max     162.330000   162.600000   160.970000   162.550000  2.828439e+07"
            ],
            "text/html": [
              "\n",
              "  <div id=\"df-236c7eb6-2743-473c-96a4-2a402e784907\" class=\"colab-df-container\">\n",
              "    <div>\n",
              "<style scoped>\n",
              "    .dataframe tbody tr th:only-of-type {\n",
              "        vertical-align: middle;\n",
              "    }\n",
              "\n",
              "    .dataframe tbody tr th {\n",
              "        vertical-align: top;\n",
              "    }\n",
              "\n",
              "    .dataframe thead th {\n",
              "        text-align: right;\n",
              "    }\n",
              "</style>\n",
              "<table border=\"1\" class=\"dataframe\">\n",
              "  <thead>\n",
              "    <tr style=\"text-align: right;\">\n",
              "      <th></th>\n",
              "      <th>open</th>\n",
              "      <th>high</th>\n",
              "      <th>low</th>\n",
              "      <th>close</th>\n",
              "      <th>volume</th>\n",
              "    </tr>\n",
              "  </thead>\n",
              "  <tbody>\n",
              "    <tr>\n",
              "      <th>count</th>\n",
              "      <td>1259.000000</td>\n",
              "      <td>1259.000000</td>\n",
              "      <td>1259.000000</td>\n",
              "      <td>1259.000000</td>\n",
              "      <td>1.259000e+03</td>\n",
              "    </tr>\n",
              "    <tr>\n",
              "      <th>mean</th>\n",
              "      <td>101.022826</td>\n",
              "      <td>101.766440</td>\n",
              "      <td>100.348163</td>\n",
              "      <td>101.119079</td>\n",
              "      <td>2.596238e+06</td>\n",
              "    </tr>\n",
              "    <tr>\n",
              "      <th>std</th>\n",
              "      <td>22.105091</td>\n",
              "      <td>22.206993</td>\n",
              "      <td>21.999712</td>\n",
              "      <td>22.129031</td>\n",
              "      <td>1.353507e+06</td>\n",
              "    </tr>\n",
              "    <tr>\n",
              "      <th>min</th>\n",
              "      <td>70.580000</td>\n",
              "      <td>70.750000</td>\n",
              "      <td>69.000000</td>\n",
              "      <td>70.280000</td>\n",
              "      <td>6.018180e+05</td>\n",
              "    </tr>\n",
              "    <tr>\n",
              "      <th>25%</th>\n",
              "      <td>80.680000</td>\n",
              "      <td>81.330000</td>\n",
              "      <td>80.165000</td>\n",
              "      <td>80.670000</td>\n",
              "      <td>1.879082e+06</td>\n",
              "    </tr>\n",
              "    <tr>\n",
              "      <th>50%</th>\n",
              "      <td>97.800000</td>\n",
              "      <td>98.790000</td>\n",
              "      <td>96.920000</td>\n",
              "      <td>97.770000</td>\n",
              "      <td>2.328702e+06</td>\n",
              "    </tr>\n",
              "    <tr>\n",
              "      <th>75%</th>\n",
              "      <td>117.020000</td>\n",
              "      <td>117.990000</td>\n",
              "      <td>116.250000</td>\n",
              "      <td>117.045000</td>\n",
              "      <td>2.972384e+06</td>\n",
              "    </tr>\n",
              "    <tr>\n",
              "      <th>max</th>\n",
              "      <td>162.330000</td>\n",
              "      <td>162.600000</td>\n",
              "      <td>160.970000</td>\n",
              "      <td>162.550000</td>\n",
              "      <td>2.828439e+07</td>\n",
              "    </tr>\n",
              "  </tbody>\n",
              "</table>\n",
              "</div>\n",
              "    <div class=\"colab-df-buttons\">\n",
              "\n",
              "  <div class=\"colab-df-container\">\n",
              "    <button class=\"colab-df-convert\" onclick=\"convertToInteractive('df-236c7eb6-2743-473c-96a4-2a402e784907')\"\n",
              "            title=\"Convert this dataframe to an interactive table.\"\n",
              "            style=\"display:none;\">\n",
              "\n",
              "  <svg xmlns=\"http://www.w3.org/2000/svg\" height=\"24px\" viewBox=\"0 -960 960 960\">\n",
              "    <path d=\"M120-120v-720h720v720H120Zm60-500h600v-160H180v160Zm220 220h160v-160H400v160Zm0 220h160v-160H400v160ZM180-400h160v-160H180v160Zm440 0h160v-160H620v160ZM180-180h160v-160H180v160Zm440 0h160v-160H620v160Z\"/>\n",
              "  </svg>\n",
              "    </button>\n",
              "\n",
              "  <style>\n",
              "    .colab-df-container {\n",
              "      display:flex;\n",
              "      gap: 12px;\n",
              "    }\n",
              "\n",
              "    .colab-df-convert {\n",
              "      background-color: #E8F0FE;\n",
              "      border: none;\n",
              "      border-radius: 50%;\n",
              "      cursor: pointer;\n",
              "      display: none;\n",
              "      fill: #1967D2;\n",
              "      height: 32px;\n",
              "      padding: 0 0 0 0;\n",
              "      width: 32px;\n",
              "    }\n",
              "\n",
              "    .colab-df-convert:hover {\n",
              "      background-color: #E2EBFA;\n",
              "      box-shadow: 0px 1px 2px rgba(60, 64, 67, 0.3), 0px 1px 3px 1px rgba(60, 64, 67, 0.15);\n",
              "      fill: #174EA6;\n",
              "    }\n",
              "\n",
              "    .colab-df-buttons div {\n",
              "      margin-bottom: 4px;\n",
              "    }\n",
              "\n",
              "    [theme=dark] .colab-df-convert {\n",
              "      background-color: #3B4455;\n",
              "      fill: #D2E3FC;\n",
              "    }\n",
              "\n",
              "    [theme=dark] .colab-df-convert:hover {\n",
              "      background-color: #434B5C;\n",
              "      box-shadow: 0px 1px 3px 1px rgba(0, 0, 0, 0.15);\n",
              "      filter: drop-shadow(0px 1px 2px rgba(0, 0, 0, 0.3));\n",
              "      fill: #FFFFFF;\n",
              "    }\n",
              "  </style>\n",
              "\n",
              "    <script>\n",
              "      const buttonEl =\n",
              "        document.querySelector('#df-236c7eb6-2743-473c-96a4-2a402e784907 button.colab-df-convert');\n",
              "      buttonEl.style.display =\n",
              "        google.colab.kernel.accessAllowed ? 'block' : 'none';\n",
              "\n",
              "      async function convertToInteractive(key) {\n",
              "        const element = document.querySelector('#df-236c7eb6-2743-473c-96a4-2a402e784907');\n",
              "        const dataTable =\n",
              "          await google.colab.kernel.invokeFunction('convertToInteractive',\n",
              "                                                    [key], {});\n",
              "        if (!dataTable) return;\n",
              "\n",
              "        const docLinkHtml = 'Like what you see? Visit the ' +\n",
              "          '<a target=\"_blank\" href=https://colab.research.google.com/notebooks/data_table.ipynb>data table notebook</a>'\n",
              "          + ' to learn more about interactive tables.';\n",
              "        element.innerHTML = '';\n",
              "        dataTable['output_type'] = 'display_data';\n",
              "        await google.colab.output.renderOutput(dataTable, element);\n",
              "        const docLink = document.createElement('div');\n",
              "        docLink.innerHTML = docLinkHtml;\n",
              "        element.appendChild(docLink);\n",
              "      }\n",
              "    </script>\n",
              "  </div>\n",
              "\n",
              "\n",
              "<div id=\"df-640e69a6-8103-4140-bc07-977ad5f37d0e\">\n",
              "  <button class=\"colab-df-quickchart\" onclick=\"quickchart('df-640e69a6-8103-4140-bc07-977ad5f37d0e')\"\n",
              "            title=\"Suggest charts\"\n",
              "            style=\"display:none;\">\n",
              "\n",
              "<svg xmlns=\"http://www.w3.org/2000/svg\" height=\"24px\"viewBox=\"0 0 24 24\"\n",
              "     width=\"24px\">\n",
              "    <g>\n",
              "        <path d=\"M19 3H5c-1.1 0-2 .9-2 2v14c0 1.1.9 2 2 2h14c1.1 0 2-.9 2-2V5c0-1.1-.9-2-2-2zM9 17H7v-7h2v7zm4 0h-2V7h2v10zm4 0h-2v-4h2v4z\"/>\n",
              "    </g>\n",
              "</svg>\n",
              "  </button>\n",
              "\n",
              "<style>\n",
              "  .colab-df-quickchart {\n",
              "      --bg-color: #E8F0FE;\n",
              "      --fill-color: #1967D2;\n",
              "      --hover-bg-color: #E2EBFA;\n",
              "      --hover-fill-color: #174EA6;\n",
              "      --disabled-fill-color: #AAA;\n",
              "      --disabled-bg-color: #DDD;\n",
              "  }\n",
              "\n",
              "  [theme=dark] .colab-df-quickchart {\n",
              "      --bg-color: #3B4455;\n",
              "      --fill-color: #D2E3FC;\n",
              "      --hover-bg-color: #434B5C;\n",
              "      --hover-fill-color: #FFFFFF;\n",
              "      --disabled-bg-color: #3B4455;\n",
              "      --disabled-fill-color: #666;\n",
              "  }\n",
              "\n",
              "  .colab-df-quickchart {\n",
              "    background-color: var(--bg-color);\n",
              "    border: none;\n",
              "    border-radius: 50%;\n",
              "    cursor: pointer;\n",
              "    display: none;\n",
              "    fill: var(--fill-color);\n",
              "    height: 32px;\n",
              "    padding: 0;\n",
              "    width: 32px;\n",
              "  }\n",
              "\n",
              "  .colab-df-quickchart:hover {\n",
              "    background-color: var(--hover-bg-color);\n",
              "    box-shadow: 0 1px 2px rgba(60, 64, 67, 0.3), 0 1px 3px 1px rgba(60, 64, 67, 0.15);\n",
              "    fill: var(--button-hover-fill-color);\n",
              "  }\n",
              "\n",
              "  .colab-df-quickchart-complete:disabled,\n",
              "  .colab-df-quickchart-complete:disabled:hover {\n",
              "    background-color: var(--disabled-bg-color);\n",
              "    fill: var(--disabled-fill-color);\n",
              "    box-shadow: none;\n",
              "  }\n",
              "\n",
              "  .colab-df-spinner {\n",
              "    border: 2px solid var(--fill-color);\n",
              "    border-color: transparent;\n",
              "    border-bottom-color: var(--fill-color);\n",
              "    animation:\n",
              "      spin 1s steps(1) infinite;\n",
              "  }\n",
              "\n",
              "  @keyframes spin {\n",
              "    0% {\n",
              "      border-color: transparent;\n",
              "      border-bottom-color: var(--fill-color);\n",
              "      border-left-color: var(--fill-color);\n",
              "    }\n",
              "    20% {\n",
              "      border-color: transparent;\n",
              "      border-left-color: var(--fill-color);\n",
              "      border-top-color: var(--fill-color);\n",
              "    }\n",
              "    30% {\n",
              "      border-color: transparent;\n",
              "      border-left-color: var(--fill-color);\n",
              "      border-top-color: var(--fill-color);\n",
              "      border-right-color: var(--fill-color);\n",
              "    }\n",
              "    40% {\n",
              "      border-color: transparent;\n",
              "      border-right-color: var(--fill-color);\n",
              "      border-top-color: var(--fill-color);\n",
              "    }\n",
              "    60% {\n",
              "      border-color: transparent;\n",
              "      border-right-color: var(--fill-color);\n",
              "    }\n",
              "    80% {\n",
              "      border-color: transparent;\n",
              "      border-right-color: var(--fill-color);\n",
              "      border-bottom-color: var(--fill-color);\n",
              "    }\n",
              "    90% {\n",
              "      border-color: transparent;\n",
              "      border-bottom-color: var(--fill-color);\n",
              "    }\n",
              "  }\n",
              "</style>\n",
              "\n",
              "  <script>\n",
              "    async function quickchart(key) {\n",
              "      const quickchartButtonEl =\n",
              "        document.querySelector('#' + key + ' button');\n",
              "      quickchartButtonEl.disabled = true;  // To prevent multiple clicks.\n",
              "      quickchartButtonEl.classList.add('colab-df-spinner');\n",
              "      try {\n",
              "        const charts = await google.colab.kernel.invokeFunction(\n",
              "            'suggestCharts', [key], {});\n",
              "      } catch (error) {\n",
              "        console.error('Error during call to suggestCharts:', error);\n",
              "      }\n",
              "      quickchartButtonEl.classList.remove('colab-df-spinner');\n",
              "      quickchartButtonEl.classList.add('colab-df-quickchart-complete');\n",
              "    }\n",
              "    (() => {\n",
              "      let quickchartButtonEl =\n",
              "        document.querySelector('#df-640e69a6-8103-4140-bc07-977ad5f37d0e button');\n",
              "      quickchartButtonEl.style.display =\n",
              "        google.colab.kernel.accessAllowed ? 'block' : 'none';\n",
              "    })();\n",
              "  </script>\n",
              "</div>\n",
              "\n",
              "    </div>\n",
              "  </div>\n"
            ],
            "application/vnd.google.colaboratory.intrinsic+json": {
              "type": "dataframe",
              "summary": "{\n  \"name\": \"data\",\n  \"rows\": 8,\n  \"fields\": [\n    {\n      \"column\": \"open\",\n      \"properties\": {\n        \"dtype\": \"number\",\n        \"std\": 414.1439023144202,\n        \"min\": 22.10509141174094,\n        \"max\": 1259.0,\n        \"num_unique_values\": 8,\n        \"samples\": [\n          101.02282613185068,\n          97.8,\n          1259.0\n        ],\n        \"semantic_type\": \"\",\n        \"description\": \"\"\n      }\n    },\n    {\n      \"column\": \"high\",\n      \"properties\": {\n        \"dtype\": \"number\",\n        \"std\": 413.9597346339096,\n        \"min\": 22.206992901033885,\n        \"max\": 1259.0,\n        \"num_unique_values\": 8,\n        \"samples\": [\n          101.76644011119937,\n          98.79,\n          1259.0\n        ],\n        \"semantic_type\": \"\",\n        \"description\": \"\"\n      }\n    },\n    {\n      \"column\": \"low\",\n      \"properties\": {\n        \"dtype\": \"number\",\n        \"std\": 414.4149466700301,\n        \"min\": 21.99971247900701,\n        \"max\": 1259.0,\n        \"num_unique_values\": 8,\n        \"samples\": [\n          100.34816306592535,\n          96.92,\n          1259.0\n        ],\n        \"semantic_type\": \"\",\n        \"description\": \"\"\n      }\n    },\n    {\n      \"column\": \"close\",\n      \"properties\": {\n        \"dtype\": \"number\",\n        \"std\": 414.1501233179316,\n        \"min\": 22.1290305505929,\n        \"max\": 1259.0,\n        \"num_unique_values\": 8,\n        \"samples\": [\n          101.11907863383638,\n          97.77,\n          1259.0\n        ],\n        \"semantic_type\": \"\",\n        \"description\": \"\"\n      }\n    },\n    {\n      \"column\": \"volume\",\n      \"properties\": {\n        \"dtype\": \"number\",\n        \"std\": 9460868.12619923,\n        \"min\": 1259.0,\n        \"max\": 28284386.0,\n        \"num_unique_values\": 8,\n        \"samples\": [\n          2596238.098490866,\n          2328702.0,\n          1259.0\n        ],\n        \"semantic_type\": \"\",\n        \"description\": \"\"\n      }\n    }\n  ]\n}"
            }
          },
          "metadata": {},
          "execution_count": 82
        }
      ]
    },
    {
      "cell_type": "code",
      "source": [
        "sns.heatmap(data.corr())"
      ],
      "metadata": {
        "colab": {
          "base_uri": "https://localhost:8080/",
          "height": 507
        },
        "id": "ysCH4N_FtjlZ",
        "outputId": "0b13a4d2-00e9-4929-9d45-8e419dafd2f8"
      },
      "execution_count": 83,
      "outputs": [
        {
          "output_type": "stream",
          "name": "stderr",
          "text": [
            "<ipython-input-83-8b96879b4d02>:1: FutureWarning: The default value of numeric_only in DataFrame.corr is deprecated. In a future version, it will default to False. Select only valid columns or specify the value of numeric_only to silence this warning.\n",
            "  sns.heatmap(data.corr())\n"
          ]
        },
        {
          "output_type": "execute_result",
          "data": {
            "text/plain": [
              "<Axes: >"
            ]
          },
          "metadata": {},
          "execution_count": 83
        },
        {
          "output_type": "display_data",
          "data": {
            "text/plain": [
              "<Figure size 640x480 with 2 Axes>"
            ],
            "image/png": "[encoded data removed]"
          },
          "metadata": {}
        }
      ]
    },
    {
      "cell_type": "code",
      "source": [
        "def create_lag_and_target(data, lag_days, target_days):\n",
        "    \"\"\"\n",
        "    Create lagged features and target for stock price prediction.\"\"\"\n",
        "\n",
        "    # Create lagged features\n",
        "    for i in range(1, lag_days + 1):\n",
        "        data[f'close_{i}'] = data['close'].shift(i)\n",
        "\n",
        "    # Create target for the specified future day\n",
        "    data['Target'] = data['close'].shift(-target_days)\n",
        "\n",
        "    # Drop rows with NaN values introduced by lagging\n",
        "    data = data.dropna()\n",
        "\n",
        "    return data"
      ],
      "metadata": {
        "id": "Ine_Jqfz8-Lq"
      },
      "execution_count": 84,
      "outputs": []
    },
    {
      "cell_type": "code",
      "source": [
        "# Assuming 'df' is your DataFrame with a 'Close' column\n",
        "# and you want to create a lag of 40 days and predict the 50th day close price\n",
        "data = create_lag_and_target(data, lag_days=90, target_days=14)"
      ],
      "metadata": {
        "id": "L6i6WZEzSMv-"
      },
      "execution_count": 85,
      "outputs": []
    },
    {
      "cell_type": "code",
      "source": [
        "data.isna().sum()"
      ],
      "metadata": {
        "colab": {
          "base_uri": "https://localhost:8080/"
        },
        "id": "na8aH9wTLN6t",
        "outputId": "b7c8a3b4-44fc-490c-e99d-007acaeec3ea"
      },
      "execution_count": 86,
      "outputs": [
        {
          "output_type": "execute_result",
          "data": {
            "text/plain": [
              "date        0\n",
              "open        0\n",
              "high        0\n",
              "low         0\n",
              "close       0\n",
              "           ..\n",
              "close_87    0\n",
              "close_88    0\n",
              "close_89    0\n",
              "close_90    0\n",
              "Target      0\n",
              "Length: 98, dtype: int64"
            ]
          },
          "metadata": {},
          "execution_count": 86
        }
      ]
    },
    {
      "cell_type": "code",
      "source": [
        "def detect_seasonality_and_trend(data, period):\n",
        "    \"\"\"\n",
        "    Detects seasonality and trend in the close price and creates new features.\n",
        "    \"\"\"\n",
        "\n",
        "    # Decompose the close price into trend, seasonality, and residuals\n",
        "    decomposition = seasonal_decompose(data['close_1'], model='multiplicative', period=period)\n",
        "\n",
        "    # Extract trend and seasonality components\n",
        "    data['trend'] = decomposition.trend\n",
        "    data['seasonality'] = decomposition.seasonal\n",
        "\n",
        "    return pd.DataFrame(data)"
      ],
      "metadata": {
        "id": "yZYnAqkJBhR7"
      },
      "execution_count": 87,
      "outputs": []
    },
    {
      "cell_type": "code",
      "source": [
        "# 'open', 'high', 'low','volume','close'\n",
        "feature_columns = data.drop(['date','Name','volume','open','high','low','close','Target'],axis=1)\n",
        "print(feature_columns.columns)"
      ],
      "metadata": {
        "colab": {
          "base_uri": "https://localhost:8080/"
        },
        "id": "nCZ3pF_6E0Si",
        "outputId": "a7f35147-4bc5-493e-b5c2-5f21d51f1f53"
      },
      "execution_count": 88,
      "outputs": [
        {
          "output_type": "stream",
          "name": "stdout",
          "text": [
            "Index(['close_1', 'close_2', 'close_3', 'close_4', 'close_5', 'close_6',\n",
            "       'close_7', 'close_8', 'close_9', 'close_10', 'close_11', 'close_12',\n",
            "       'close_13', 'close_14', 'close_15', 'close_16', 'close_17', 'close_18',\n",
            "       'close_19', 'close_20', 'close_21', 'close_22', 'close_23', 'close_24',\n",
            "       'close_25', 'close_26', 'close_27', 'close_28', 'close_29', 'close_30',\n",
            "       'close_31', 'close_32', 'close_33', 'close_34', 'close_35', 'close_36',\n",
            "       'close_37', 'close_38', 'close_39', 'close_40', 'close_41', 'close_42',\n",
            "       'close_43', 'close_44', 'close_45', 'close_46', 'close_47', 'close_48',\n",
            "       'close_49', 'close_50', 'close_51', 'close_52', 'close_53', 'close_54',\n",
            "       'close_55', 'close_56', 'close_57', 'close_58', 'close_59', 'close_60',\n",
            "       'close_61', 'close_62', 'close_63', 'close_64', 'close_65', 'close_66',\n",
            "       'close_67', 'close_68', 'close_69', 'close_70', 'close_71', 'close_72',\n",
            "       'close_73', 'close_74', 'close_75', 'close_76', 'close_77', 'close_78',\n",
            "       'close_79', 'close_80', 'close_81', 'close_82', 'close_83', 'close_84',\n",
            "       'close_85', 'close_86', 'close_87', 'close_88', 'close_89', 'close_90'],\n",
            "      dtype='object')\n"
          ]
        }
      ]
    },
    {
      "cell_type": "code",
      "source": [
        "y = data['Target']\n",
        "X = data[feature_columns.columns]"
      ],
      "metadata": {
        "id": "9Urgk6LGFexS"
      },
      "execution_count": 89,
      "outputs": []
    },
    {
      "cell_type": "code",
      "source": [
        "X.isnull().sum()"
      ],
      "metadata": {
        "colab": {
          "base_uri": "https://localhost:8080/"
        },
        "id": "5Z1veDfzQzET",
        "outputId": "a3f2b310-ffd1-4f5b-a3c0-057ca0de199c"
      },
      "execution_count": 90,
      "outputs": [
        {
          "output_type": "execute_result",
          "data": {
            "text/plain": [
              "close_1     0\n",
              "close_2     0\n",
              "close_3     0\n",
              "close_4     0\n",
              "close_5     0\n",
              "           ..\n",
              "close_86    0\n",
              "close_87    0\n",
              "close_88    0\n",
              "close_89    0\n",
              "close_90    0\n",
              "Length: 90, dtype: int64"
            ]
          },
          "metadata": {},
          "execution_count": 90
        }
      ]
    },
    {
      "cell_type": "code",
      "source": [
        "y.isnull().sum()"
      ],
      "metadata": {
        "colab": {
          "base_uri": "https://localhost:8080/"
        },
        "id": "KDjeII4yQ1GK",
        "outputId": "5cf4a8dd-049d-4b35-dba6-efe640f89b70"
      },
      "execution_count": 91,
      "outputs": [
        {
          "output_type": "execute_result",
          "data": {
            "text/plain": [
              "0"
            ]
          },
          "metadata": {},
          "execution_count": 91
        }
      ]
    },
    {
      "cell_type": "code",
      "source": [
        "X.dropna(inplace=True)"
      ],
      "metadata": {
        "colab": {
          "base_uri": "https://localhost:8080/"
        },
        "id": "4rWrlFJdbINC",
        "outputId": "8f994ddc-74de-4fa8-ee5b-42976c3b5ee8"
      },
      "execution_count": 92,
      "outputs": [
        {
          "output_type": "stream",
          "name": "stderr",
          "text": [
            "<ipython-input-92-32f8c2353909>:1: SettingWithCopyWarning: \n",
            "A value is trying to be set on a copy of a slice from a DataFrame\n",
            "\n",
            "See the caveats in the documentation: https://pandas.pydata.org/pandas-docs/stable/user_guide/indexing.html#returning-a-view-versus-a-copy\n",
            "  X.dropna(inplace=True)\n"
          ]
        }
      ]
    },
    {
      "cell_type": "code",
      "source": [
        "y.dropna(inplace=True)"
      ],
      "metadata": {
        "id": "vxcydj09bQ_S"
      },
      "execution_count": 93,
      "outputs": []
    },
    {
      "cell_type": "code",
      "source": [
        "split_index = int(len(X) * 0.8)\n",
        "\n",
        "# Split the data\n",
        "X_train, X_test = X.iloc[:split_index], X.iloc[split_index:]\n",
        "y_train, y_test = y.iloc[:split_index], y.iloc[split_index:]"
      ],
      "metadata": {
        "id": "i6Dm7O-szO-V"
      },
      "execution_count": 94,
      "outputs": []
    },
    {
      "cell_type": "code",
      "source": [
        "# Check the shapes\n",
        "print(\"X_train shape:\", X_train.shape)\n",
        "print(\"X_test shape:\", X_test.shape)\n",
        "print(\"y_train shape:\", y_train.shape)\n",
        "print(\"y_test shape:\", y_test.shape)"
      ],
      "metadata": {
        "colab": {
          "base_uri": "https://localhost:8080/"
        },
        "id": "IvjViMv3PXJ2",
        "outputId": "252ab71c-e173-4c34-e182-13b2cdaccc85"
      },
      "execution_count": 95,
      "outputs": [
        {
          "output_type": "stream",
          "name": "stdout",
          "text": [
            "X_train shape: (924, 90)\n",
            "X_test shape: (231, 90)\n",
            "y_train shape: (924,)\n",
            "y_test shape: (231,)\n"
          ]
        }
      ]
    },
    {
      "cell_type": "code",
      "source": [
        "X_train[['close_1']].plot()"
      ],
      "metadata": {
        "colab": {
          "base_uri": "https://localhost:8080/",
          "height": 447
        },
        "id": "1VBydmK9cZkV",
        "outputId": "55a8ed8d-748b-4760-be09-e6d8fc9f8d52"
      },
      "execution_count": 54,
      "outputs": [
        {
          "output_type": "execute_result",
          "data": {
            "text/plain": [
              "<Axes: >"
            ]
          },
          "metadata": {},
          "execution_count": 54
        },
        {
          "output_type": "display_data",
          "data": {
            "text/plain": [
              "<Figure size 640x480 with 1 Axes>"
            ],
            "image/png": "[encoded data removed]"
          },
          "metadata": {}
        }
      ]
    },
    {
      "cell_type": "code",
      "source": [
        "X_test"
      ],
      "metadata": {
        "colab": {
          "base_uri": "https://localhost:8080/",
          "height": 443
        },
        "id": "8_GO51q0chGW",
        "outputId": "4cd44031-58f3-45d2-e839-f7fd4138abf0"
      },
      "execution_count": 55,
      "outputs": [
        {
          "output_type": "execute_result",
          "data": {
            "text/plain": [
              "      close_1  close_2  close_3  close_4  close_5  close_6  close_7  close_8  \\\n",
              "1014   120.72   119.93   120.00   118.59   117.60   116.98   115.43   115.92   \n",
              "1015   121.23   120.72   119.93   120.00   118.59   117.60   116.98   115.43   \n",
              "1016   122.10   121.23   120.72   119.93   120.00   118.59   117.60   116.98   \n",
              "1017   122.21   122.10   121.23   120.72   119.93   120.00   118.59   117.60   \n",
              "1018   122.48   122.21   122.10   121.23   120.72   119.93   120.00   118.59   \n",
              "...       ...      ...      ...      ...      ...      ...      ...      ...   \n",
              "1240   158.90   159.46   158.93   157.67   156.38   154.55   153.84   153.09   \n",
              "1241   159.11   158.90   159.46   158.93   157.67   156.38   154.55   153.84   \n",
              "1242   160.11   159.11   158.90   159.46   158.93   157.67   156.38   154.55   \n",
              "1243   157.96   160.11   159.11   158.90   159.46   158.93   157.67   156.38   \n",
              "1244   160.21   157.96   160.11   159.11   158.90   159.46   158.93   157.67   \n",
              "\n",
              "      close_9  close_10  ...  close_81  close_82  close_83  close_84  \\\n",
              "1014   114.18    114.49  ...    115.59    116.05    116.82    117.53   \n",
              "1015   115.92    114.18  ...    115.80    115.59    116.05    116.82   \n",
              "1016   115.43    115.92  ...    115.27    115.80    115.59    116.05   \n",
              "1017   116.98    115.43  ...    115.45    115.27    115.80    115.59   \n",
              "1018   117.60    116.98  ...    115.46    115.45    115.27    115.80   \n",
              "...       ...       ...  ...       ...       ...       ...       ...   \n",
              "1240   153.57    153.32  ...    135.35    134.86    134.78    136.22   \n",
              "1241   153.09    153.57  ...    136.94    135.35    134.86    134.78   \n",
              "1242   153.84    153.09  ...    136.71    136.94    135.35    134.86   \n",
              "1243   154.55    153.84  ...    138.01    136.71    136.94    135.35   \n",
              "1244   156.38    154.55  ...    136.66    138.01    136.71    136.94   \n",
              "\n",
              "      close_85  close_86  close_87  close_88  close_89  close_90  \n",
              "1014    116.85    118.25    118.11    117.62    116.97    117.46  \n",
              "1015    117.53    116.85    118.25    118.11    117.62    116.97  \n",
              "1016    116.82    117.53    116.85    118.25    118.11    117.62  \n",
              "1017    116.05    116.82    117.53    116.85    118.25    118.11  \n",
              "1018    115.59    116.05    116.82    117.53    116.85    118.25  \n",
              "...        ...       ...       ...       ...       ...       ...  \n",
              "1240    136.23    133.72    134.24    131.12    129.77    130.10  \n",
              "1241    136.22    136.23    133.72    134.24    131.12    129.77  \n",
              "1242    134.78    136.22    136.23    133.72    134.24    131.12  \n",
              "1243    134.86    134.78    136.22    136.23    133.72    134.24  \n",
              "1244    135.35    134.86    134.78    136.22    136.23    133.72  \n",
              "\n",
              "[231 rows x 90 columns]"
            ],
            "text/html": [
              "\n",
              "  <div id=\"df-7218b0dc-d8f4-4a7c-a9ab-5250760c6a15\" class=\"colab-df-container\">\n",
              "    <div>\n",
              "<style scoped>\n",
              "    .dataframe tbody tr th:only-of-type {\n",
              "        vertical-align: middle;\n",
              "    }\n",
              "\n",
              "    .dataframe tbody tr th {\n",
              "        vertical-align: top;\n",
              "    }\n",
              "\n",
              "    .dataframe thead th {\n",
              "        text-align: right;\n",
              "    }\n",
              "</style>\n",
              "<table border=\"1\" class=\"dataframe\">\n",
              "  <thead>\n",
              "    <tr style=\"text-align: right;\">\n",
              "      <th></th>\n",
              "      <th>close_1</th>\n",
              "      <th>close_2</th>\n",
              "      <th>close_3</th>\n",
              "      <th>close_4</th>\n",
              "      <th>close_5</th>\n",
              "      <th>close_6</th>\n",
              "      <th>close_7</th>\n",
              "      <th>close_8</th>\n",
              "      <th>close_9</th>\n",
              "      <th>close_10</th>\n",
              "      <th>...</th>\n",
              "      <th>close_81</th>\n",
              "      <th>close_82</th>\n",
              "      <th>close_83</th>\n",
              "      <th>close_84</th>\n",
              "      <th>close_85</th>\n",
              "      <th>close_86</th>\n",
              "      <th>close_87</th>\n",
              "      <th>close_88</th>\n",
              "      <th>close_89</th>\n",
              "      <th>close_90</th>\n",
              "    </tr>\n",
              "  </thead>\n",
              "  <tbody>\n",
              "    <tr>\n",
              "      <th>1014</th>\n",
              "      <td>120.72</td>\n",
              "      <td>119.93</td>\n",
              "      <td>120.00</td>\n",
              "      <td>118.59</td>\n",
              "      <td>117.60</td>\n",
              "      <td>116.98</td>\n",
              "      <td>115.43</td>\n",
              "      <td>115.92</td>\n",
              "      <td>114.18</td>\n",
              "      <td>114.49</td>\n",
              "      <td>...</td>\n",
              "      <td>115.59</td>\n",
              "      <td>116.05</td>\n",
              "      <td>116.82</td>\n",
              "      <td>117.53</td>\n",
              "      <td>116.85</td>\n",
              "      <td>118.25</td>\n",
              "      <td>118.11</td>\n",
              "      <td>117.62</td>\n",
              "      <td>116.97</td>\n",
              "      <td>117.46</td>\n",
              "    </tr>\n",
              "    <tr>\n",
              "      <th>1015</th>\n",
              "      <td>121.23</td>\n",
              "      <td>120.72</td>\n",
              "      <td>119.93</td>\n",
              "      <td>120.00</td>\n",
              "      <td>118.59</td>\n",
              "      <td>117.60</td>\n",
              "      <td>116.98</td>\n",
              "      <td>115.43</td>\n",
              "      <td>115.92</td>\n",
              "      <td>114.18</td>\n",
              "      <td>...</td>\n",
              "      <td>115.80</td>\n",
              "      <td>115.59</td>\n",
              "      <td>116.05</td>\n",
              "      <td>116.82</td>\n",
              "      <td>117.53</td>\n",
              "      <td>116.85</td>\n",
              "      <td>118.25</td>\n",
              "      <td>118.11</td>\n",
              "      <td>117.62</td>\n",
              "      <td>116.97</td>\n",
              "    </tr>\n",
              "    <tr>\n",
              "      <th>1016</th>\n",
              "      <td>122.10</td>\n",
              "      <td>121.23</td>\n",
              "      <td>120.72</td>\n",
              "      <td>119.93</td>\n",
              "      <td>120.00</td>\n",
              "      <td>118.59</td>\n",
              "      <td>117.60</td>\n",
              "      <td>116.98</td>\n",
              "      <td>115.43</td>\n",
              "      <td>115.92</td>\n",
              "      <td>...</td>\n",
              "      <td>115.27</td>\n",
              "      <td>115.80</td>\n",
              "      <td>115.59</td>\n",
              "      <td>116.05</td>\n",
              "      <td>116.82</td>\n",
              "      <td>117.53</td>\n",
              "      <td>116.85</td>\n",
              "      <td>118.25</td>\n",
              "      <td>118.11</td>\n",
              "      <td>117.62</td>\n",
              "    </tr>\n",
              "    <tr>\n",
              "      <th>1017</th>\n",
              "      <td>122.21</td>\n",
              "      <td>122.10</td>\n",
              "      <td>121.23</td>\n",
              "      <td>120.72</td>\n",
              "      <td>119.93</td>\n",
              "      <td>120.00</td>\n",
              "      <td>118.59</td>\n",
              "      <td>117.60</td>\n",
              "      <td>116.98</td>\n",
              "      <td>115.43</td>\n",
              "      <td>...</td>\n",
              "      <td>115.45</td>\n",
              "      <td>115.27</td>\n",
              "      <td>115.80</td>\n",
              "      <td>115.59</td>\n",
              "      <td>116.05</td>\n",
              "      <td>116.82</td>\n",
              "      <td>117.53</td>\n",
              "      <td>116.85</td>\n",
              "      <td>118.25</td>\n",
              "      <td>118.11</td>\n",
              "    </tr>\n",
              "    <tr>\n",
              "      <th>1018</th>\n",
              "      <td>122.48</td>\n",
              "      <td>122.21</td>\n",
              "      <td>122.10</td>\n",
              "      <td>121.23</td>\n",
              "      <td>120.72</td>\n",
              "      <td>119.93</td>\n",
              "      <td>120.00</td>\n",
              "      <td>118.59</td>\n",
              "      <td>117.60</td>\n",
              "      <td>116.98</td>\n",
              "      <td>...</td>\n",
              "      <td>115.46</td>\n",
              "      <td>115.45</td>\n",
              "      <td>115.27</td>\n",
              "      <td>115.80</td>\n",
              "      <td>115.59</td>\n",
              "      <td>116.05</td>\n",
              "      <td>116.82</td>\n",
              "      <td>117.53</td>\n",
              "      <td>116.85</td>\n",
              "      <td>118.25</td>\n",
              "    </tr>\n",
              "    <tr>\n",
              "      <th>...</th>\n",
              "      <td>...</td>\n",
              "      <td>...</td>\n",
              "      <td>...</td>\n",
              "      <td>...</td>\n",
              "      <td>...</td>\n",
              "      <td>...</td>\n",
              "      <td>...</td>\n",
              "      <td>...</td>\n",
              "      <td>...</td>\n",
              "      <td>...</td>\n",
              "      <td>...</td>\n",
              "      <td>...</td>\n",
              "      <td>...</td>\n",
              "      <td>...</td>\n",
              "      <td>...</td>\n",
              "      <td>...</td>\n",
              "      <td>...</td>\n",
              "      <td>...</td>\n",
              "      <td>...</td>\n",
              "      <td>...</td>\n",
              "      <td>...</td>\n",
              "    </tr>\n",
              "    <tr>\n",
              "      <th>1240</th>\n",
              "      <td>158.90</td>\n",
              "      <td>159.46</td>\n",
              "      <td>158.93</td>\n",
              "      <td>157.67</td>\n",
              "      <td>156.38</td>\n",
              "      <td>154.55</td>\n",
              "      <td>153.84</td>\n",
              "      <td>153.09</td>\n",
              "      <td>153.57</td>\n",
              "      <td>153.32</td>\n",
              "      <td>...</td>\n",
              "      <td>135.35</td>\n",
              "      <td>134.86</td>\n",
              "      <td>134.78</td>\n",
              "      <td>136.22</td>\n",
              "      <td>136.23</td>\n",
              "      <td>133.72</td>\n",
              "      <td>134.24</td>\n",
              "      <td>131.12</td>\n",
              "      <td>129.77</td>\n",
              "      <td>130.10</td>\n",
              "    </tr>\n",
              "    <tr>\n",
              "      <th>1241</th>\n",
              "      <td>159.11</td>\n",
              "      <td>158.90</td>\n",
              "      <td>159.46</td>\n",
              "      <td>158.93</td>\n",
              "      <td>157.67</td>\n",
              "      <td>156.38</td>\n",
              "      <td>154.55</td>\n",
              "      <td>153.84</td>\n",
              "      <td>153.09</td>\n",
              "      <td>153.57</td>\n",
              "      <td>...</td>\n",
              "      <td>136.94</td>\n",
              "      <td>135.35</td>\n",
              "      <td>134.86</td>\n",
              "      <td>134.78</td>\n",
              "      <td>136.22</td>\n",
              "      <td>136.23</td>\n",
              "      <td>133.72</td>\n",
              "      <td>134.24</td>\n",
              "      <td>131.12</td>\n",
              "      <td>129.77</td>\n",
              "    </tr>\n",
              "    <tr>\n",
              "      <th>1242</th>\n",
              "      <td>160.11</td>\n",
              "      <td>159.11</td>\n",
              "      <td>158.90</td>\n",
              "      <td>159.46</td>\n",
              "      <td>158.93</td>\n",
              "      <td>157.67</td>\n",
              "      <td>156.38</td>\n",
              "      <td>154.55</td>\n",
              "      <td>153.84</td>\n",
              "      <td>153.09</td>\n",
              "      <td>...</td>\n",
              "      <td>136.71</td>\n",
              "      <td>136.94</td>\n",
              "      <td>135.35</td>\n",
              "      <td>134.86</td>\n",
              "      <td>134.78</td>\n",
              "      <td>136.22</td>\n",
              "      <td>136.23</td>\n",
              "      <td>133.72</td>\n",
              "      <td>134.24</td>\n",
              "      <td>131.12</td>\n",
              "    </tr>\n",
              "    <tr>\n",
              "      <th>1243</th>\n",
              "      <td>157.96</td>\n",
              "      <td>160.11</td>\n",
              "      <td>159.11</td>\n",
              "      <td>158.90</td>\n",
              "      <td>159.46</td>\n",
              "      <td>158.93</td>\n",
              "      <td>157.67</td>\n",
              "      <td>156.38</td>\n",
              "      <td>154.55</td>\n",
              "      <td>153.84</td>\n",
              "      <td>...</td>\n",
              "      <td>138.01</td>\n",
              "      <td>136.71</td>\n",
              "      <td>136.94</td>\n",
              "      <td>135.35</td>\n",
              "      <td>134.86</td>\n",
              "      <td>134.78</td>\n",
              "      <td>136.22</td>\n",
              "      <td>136.23</td>\n",
              "      <td>133.72</td>\n",
              "      <td>134.24</td>\n",
              "    </tr>\n",
              "    <tr>\n",
              "      <th>1244</th>\n",
              "      <td>160.21</td>\n",
              "      <td>157.96</td>\n",
              "      <td>160.11</td>\n",
              "      <td>159.11</td>\n",
              "      <td>158.90</td>\n",
              "      <td>159.46</td>\n",
              "      <td>158.93</td>\n",
              "      <td>157.67</td>\n",
              "      <td>156.38</td>\n",
              "      <td>154.55</td>\n",
              "      <td>...</td>\n",
              "      <td>136.66</td>\n",
              "      <td>138.01</td>\n",
              "      <td>136.71</td>\n",
              "      <td>136.94</td>\n",
              "      <td>135.35</td>\n",
              "      <td>134.86</td>\n",
              "      <td>134.78</td>\n",
              "      <td>136.22</td>\n",
              "      <td>136.23</td>\n",
              "      <td>133.72</td>\n",
              "    </tr>\n",
              "  </tbody>\n",
              "</table>\n",
              "<p>231 rows × 90 columns</p>\n",
              "</div>\n",
              "    <div class=\"colab-df-buttons\">\n",
              "\n",
              "  <div class=\"colab-df-container\">\n",
              "    <button class=\"colab-df-convert\" onclick=\"convertToInteractive('df-7218b0dc-d8f4-4a7c-a9ab-5250760c6a15')\"\n",
              "            title=\"Convert this dataframe to an interactive table.\"\n",
              "            style=\"display:none;\">\n",
              "\n",
              "  <svg xmlns=\"http://www.w3.org/2000/svg\" height=\"24px\" viewBox=\"0 -960 960 960\">\n",
              "    <path d=\"M120-120v-720h720v720H120Zm60-500h600v-160H180v160Zm220 220h160v-160H400v160Zm0 220h160v-160H400v160ZM180-400h160v-160H180v160Zm440 0h160v-160H620v160ZM180-180h160v-160H180v160Zm440 0h160v-160H620v160Z\"/>\n",
              "  </svg>\n",
              "    </button>\n",
              "\n",
              "  <style>\n",
              "    .colab-df-container {\n",
              "      display:flex;\n",
              "      gap: 12px;\n",
              "    }\n",
              "\n",
              "    .colab-df-convert {\n",
              "      background-color: #E8F0FE;\n",
              "      border: none;\n",
              "      border-radius: 50%;\n",
              "      cursor: pointer;\n",
              "      display: none;\n",
              "      fill: #1967D2;\n",
              "      height: 32px;\n",
              "      padding: 0 0 0 0;\n",
              "      width: 32px;\n",
              "    }\n",
              "\n",
              "    .colab-df-convert:hover {\n",
              "      background-color: #E2EBFA;\n",
              "      box-shadow: 0px 1px 2px rgba(60, 64, 67, 0.3), 0px 1px 3px 1px rgba(60, 64, 67, 0.15);\n",
              "      fill: #174EA6;\n",
              "    }\n",
              "\n",
              "    .colab-df-buttons div {\n",
              "      margin-bottom: 4px;\n",
              "    }\n",
              "\n",
              "    [theme=dark] .colab-df-convert {\n",
              "      background-color: #3B4455;\n",
              "      fill: #D2E3FC;\n",
              "    }\n",
              "\n",
              "    [theme=dark] .colab-df-convert:hover {\n",
              "      background-color: #434B5C;\n",
              "      box-shadow: 0px 1px 3px 1px rgba(0, 0, 0, 0.15);\n",
              "      filter: drop-shadow(0px 1px 2px rgba(0, 0, 0, 0.3));\n",
              "      fill: #FFFFFF;\n",
              "    }\n",
              "  </style>\n",
              "\n",
              "    <script>\n",
              "      const buttonEl =\n",
              "        document.querySelector('#df-7218b0dc-d8f4-4a7c-a9ab-5250760c6a15 button.colab-df-convert');\n",
              "      buttonEl.style.display =\n",
              "        google.colab.kernel.accessAllowed ? 'block' : 'none';\n",
              "\n",
              "      async function convertToInteractive(key) {\n",
              "        const element = document.querySelector('#df-7218b0dc-d8f4-4a7c-a9ab-5250760c6a15');\n",
              "        const dataTable =\n",
              "          await google.colab.kernel.invokeFunction('convertToInteractive',\n",
              "                                                    [key], {});\n",
              "        if (!dataTable) return;\n",
              "\n",
              "        const docLinkHtml = 'Like what you see? Visit the ' +\n",
              "          '<a target=\"_blank\" href=https://colab.research.google.com/notebooks/data_table.ipynb>data table notebook</a>'\n",
              "          + ' to learn more about interactive tables.';\n",
              "        element.innerHTML = '';\n",
              "        dataTable['output_type'] = 'display_data';\n",
              "        await google.colab.output.renderOutput(dataTable, element);\n",
              "        const docLink = document.createElement('div');\n",
              "        docLink.innerHTML = docLinkHtml;\n",
              "        element.appendChild(docLink);\n",
              "      }\n",
              "    </script>\n",
              "  </div>\n",
              "\n",
              "\n",
              "<div id=\"df-809cb337-749c-4025-822a-c0fc489ca461\">\n",
              "  <button class=\"colab-df-quickchart\" onclick=\"quickchart('df-809cb337-749c-4025-822a-c0fc489ca461')\"\n",
              "            title=\"Suggest charts\"\n",
              "            style=\"display:none;\">\n",
              "\n",
              "<svg xmlns=\"http://www.w3.org/2000/svg\" height=\"24px\"viewBox=\"0 0 24 24\"\n",
              "     width=\"24px\">\n",
              "    <g>\n",
              "        <path d=\"M19 3H5c-1.1 0-2 .9-2 2v14c0 1.1.9 2 2 2h14c1.1 0 2-.9 2-2V5c0-1.1-.9-2-2-2zM9 17H7v-7h2v7zm4 0h-2V7h2v10zm4 0h-2v-4h2v4z\"/>\n",
              "    </g>\n",
              "</svg>\n",
              "  </button>\n",
              "\n",
              "<style>\n",
              "  .colab-df-quickchart {\n",
              "      --bg-color: #E8F0FE;\n",
              "      --fill-color: #1967D2;\n",
              "      --hover-bg-color: #E2EBFA;\n",
              "      --hover-fill-color: #174EA6;\n",
              "      --disabled-fill-color: #AAA;\n",
              "      --disabled-bg-color: #DDD;\n",
              "  }\n",
              "\n",
              "  [theme=dark] .colab-df-quickchart {\n",
              "      --bg-color: #3B4455;\n",
              "      --fill-color: #D2E3FC;\n",
              "      --hover-bg-color: #434B5C;\n",
              "      --hover-fill-color: #FFFFFF;\n",
              "      --disabled-bg-color: #3B4455;\n",
              "      --disabled-fill-color: #666;\n",
              "  }\n",
              "\n",
              "  .colab-df-quickchart {\n",
              "    background-color: var(--bg-color);\n",
              "    border: none;\n",
              "    border-radius: 50%;\n",
              "    cursor: pointer;\n",
              "    display: none;\n",
              "    fill: var(--fill-color);\n",
              "    height: 32px;\n",
              "    padding: 0;\n",
              "    width: 32px;\n",
              "  }\n",
              "\n",
              "  .colab-df-quickchart:hover {\n",
              "    background-color: var(--hover-bg-color);\n",
              "    box-shadow: 0 1px 2px rgba(60, 64, 67, 0.3), 0 1px 3px 1px rgba(60, 64, 67, 0.15);\n",
              "    fill: var(--button-hover-fill-color);\n",
              "  }\n",
              "\n",
              "  .colab-df-quickchart-complete:disabled,\n",
              "  .colab-df-quickchart-complete:disabled:hover {\n",
              "    background-color: var(--disabled-bg-color);\n",
              "    fill: var(--disabled-fill-color);\n",
              "    box-shadow: none;\n",
              "  }\n",
              "\n",
              "  .colab-df-spinner {\n",
              "    border: 2px solid var(--fill-color);\n",
              "    border-color: transparent;\n",
              "    border-bottom-color: var(--fill-color);\n",
              "    animation:\n",
              "      spin 1s steps(1) infinite;\n",
              "  }\n",
              "\n",
              "  @keyframes spin {\n",
              "    0% {\n",
              "      border-color: transparent;\n",
              "      border-bottom-color: var(--fill-color);\n",
              "      border-left-color: var(--fill-color);\n",
              "    }\n",
              "    20% {\n",
              "      border-color: transparent;\n",
              "      border-left-color: var(--fill-color);\n",
              "      border-top-color: var(--fill-color);\n",
              "    }\n",
              "    30% {\n",
              "      border-color: transparent;\n",
              "      border-left-color: var(--fill-color);\n",
              "      border-top-color: var(--fill-color);\n",
              "      border-right-color: var(--fill-color);\n",
              "    }\n",
              "    40% {\n",
              "      border-color: transparent;\n",
              "      border-right-color: var(--fill-color);\n",
              "      border-top-color: var(--fill-color);\n",
              "    }\n",
              "    60% {\n",
              "      border-color: transparent;\n",
              "      border-right-color: var(--fill-color);\n",
              "    }\n",
              "    80% {\n",
              "      border-color: transparent;\n",
              "      border-right-color: var(--fill-color);\n",
              "      border-bottom-color: var(--fill-color);\n",
              "    }\n",
              "    90% {\n",
              "      border-color: transparent;\n",
              "      border-bottom-color: var(--fill-color);\n",
              "    }\n",
              "  }\n",
              "</style>\n",
              "\n",
              "  <script>\n",
              "    async function quickchart(key) {\n",
              "      const quickchartButtonEl =\n",
              "        document.querySelector('#' + key + ' button');\n",
              "      quickchartButtonEl.disabled = true;  // To prevent multiple clicks.\n",
              "      quickchartButtonEl.classList.add('colab-df-spinner');\n",
              "      try {\n",
              "        const charts = await google.colab.kernel.invokeFunction(\n",
              "            'suggestCharts', [key], {});\n",
              "      } catch (error) {\n",
              "        console.error('Error during call to suggestCharts:', error);\n",
              "      }\n",
              "      quickchartButtonEl.classList.remove('colab-df-spinner');\n",
              "      quickchartButtonEl.classList.add('colab-df-quickchart-complete');\n",
              "    }\n",
              "    (() => {\n",
              "      let quickchartButtonEl =\n",
              "        document.querySelector('#df-809cb337-749c-4025-822a-c0fc489ca461 button');\n",
              "      quickchartButtonEl.style.display =\n",
              "        google.colab.kernel.accessAllowed ? 'block' : 'none';\n",
              "    })();\n",
              "  </script>\n",
              "</div>\n",
              "\n",
              "  <div id=\"id_d1a91ae0-a296-4c3f-8e6a-45ef04406424\">\n",
              "    <style>\n",
              "      .colab-df-generate {\n",
              "        background-color: #E8F0FE;\n",
              "        border: none;\n",
              "        border-radius: 50%;\n",
              "        cursor: pointer;\n",
              "        display: none;\n",
              "        fill: #1967D2;\n",
              "        height: 32px;\n",
              "        padding: 0 0 0 0;\n",
              "        width: 32px;\n",
              "      }\n",
              "\n",
              "      .colab-df-generate:hover {\n",
              "        background-color: #E2EBFA;\n",
              "        box-shadow: 0px 1px 2px rgba(60, 64, 67, 0.3), 0px 1px 3px 1px rgba(60, 64, 67, 0.15);\n",
              "        fill: #174EA6;\n",
              "      }\n",
              "\n",
              "      [theme=dark] .colab-df-generate {\n",
              "        background-color: #3B4455;\n",
              "        fill: #D2E3FC;\n",
              "      }\n",
              "\n",
              "      [theme=dark] .colab-df-generate:hover {\n",
              "        background-color: #434B5C;\n",
              "        box-shadow: 0px 1px 3px 1px rgba(0, 0, 0, 0.15);\n",
              "        filter: drop-shadow(0px 1px 2px rgba(0, 0, 0, 0.3));\n",
              "        fill: #FFFFFF;\n",
              "      }\n",
              "    </style>\n",
              "    <button class=\"colab-df-generate\" onclick=\"generateWithVariable('X_test')\"\n",
              "            title=\"Generate code using this dataframe.\"\n",
              "            style=\"display:none;\">\n",
              "\n",
              "  <svg xmlns=\"http://www.w3.org/2000/svg\" height=\"24px\"viewBox=\"0 0 24 24\"\n",
              "       width=\"24px\">\n",
              "    <path d=\"M7,19H8.4L18.45,9,17,7.55,7,17.6ZM5,21V16.75L18.45,3.32a2,2,0,0,1,2.83,0l1.4,1.43a1.91,1.91,0,0,1,.58,1.4,1.91,1.91,0,0,1-.58,1.4L9.25,21ZM18.45,9,17,7.55Zm-12,3A5.31,5.31,0,0,0,4.9,8.1,5.31,5.31,0,0,0,1,6.5,5.31,5.31,0,0,0,4.9,4.9,5.31,5.31,0,0,0,6.5,1,5.31,5.31,0,0,0,8.1,4.9,5.31,5.31,0,0,0,12,6.5,5.46,5.46,0,0,0,6.5,12Z\"/>\n",
              "  </svg>\n",
              "    </button>\n",
              "    <script>\n",
              "      (() => {\n",
              "      const buttonEl =\n",
              "        document.querySelector('#id_d1a91ae0-a296-4c3f-8e6a-45ef04406424 button.colab-df-generate');\n",
              "      buttonEl.style.display =\n",
              "        google.colab.kernel.accessAllowed ? 'block' : 'none';\n",
              "\n",
              "      buttonEl.onclick = () => {\n",
              "        google.colab.notebook.generateWithVariable('X_test');\n",
              "      }\n",
              "      })();\n",
              "    </script>\n",
              "  </div>\n",
              "\n",
              "    </div>\n",
              "  </div>\n"
            ],
            "application/vnd.google.colaboratory.intrinsic+json": {
              "type": "dataframe",
              "variable_name": "X_test"
            }
          },
          "metadata": {},
          "execution_count": 55
        }
      ]
    },
    {
      "cell_type": "code",
      "source": [
        "#X_train = detect_seasonality_and_trend(X_train, period=90)  # Assuming daily data with weekly seasonality"
      ],
      "metadata": {
        "id": "DUCP3t2JB7Zf",
        "colab": {
          "base_uri": "https://localhost:8080/"
        },
        "outputId": "0fac3437-173c-49fe-d7f4-cd8253ff8399"
      },
      "execution_count": 56,
      "outputs": [
        {
          "output_type": "stream",
          "name": "stderr",
          "text": [
            "<ipython-input-45-fcade9010984>:10: SettingWithCopyWarning: \n",
            "A value is trying to be set on a copy of a slice from a DataFrame.\n",
            "Try using .loc[row_indexer,col_indexer] = value instead\n",
            "\n",
            "See the caveats in the documentation: https://pandas.pydata.org/pandas-docs/stable/user_guide/indexing.html#returning-a-view-versus-a-copy\n",
            "  data['trend'] = decomposition.trend\n",
            "<ipython-input-45-fcade9010984>:11: SettingWithCopyWarning: \n",
            "A value is trying to be set on a copy of a slice from a DataFrame.\n",
            "Try using .loc[row_indexer,col_indexer] = value instead\n",
            "\n",
            "See the caveats in the documentation: https://pandas.pydata.org/pandas-docs/stable/user_guide/indexing.html#returning-a-view-versus-a-copy\n",
            "  data['seasonality'] = decomposition.seasonal\n"
          ]
        }
      ]
    },
    {
      "cell_type": "code",
      "source": [
        "# X_test = detect_seasonality_and_trend(X_test, period=90)"
      ],
      "metadata": {
        "id": "gcX4XsZvCeet",
        "colab": {
          "base_uri": "https://localhost:8080/"
        },
        "outputId": "bbc406f2-9db5-43f4-b7fd-4cfa9a4340ab"
      },
      "execution_count": 58,
      "outputs": [
        {
          "output_type": "stream",
          "name": "stderr",
          "text": [
            "<ipython-input-45-fcade9010984>:10: SettingWithCopyWarning: \n",
            "A value is trying to be set on a copy of a slice from a DataFrame.\n",
            "Try using .loc[row_indexer,col_indexer] = value instead\n",
            "\n",
            "See the caveats in the documentation: https://pandas.pydata.org/pandas-docs/stable/user_guide/indexing.html#returning-a-view-versus-a-copy\n",
            "  data['trend'] = decomposition.trend\n",
            "<ipython-input-45-fcade9010984>:11: SettingWithCopyWarning: \n",
            "A value is trying to be set on a copy of a slice from a DataFrame.\n",
            "Try using .loc[row_indexer,col_indexer] = value instead\n",
            "\n",
            "See the caveats in the documentation: https://pandas.pydata.org/pandas-docs/stable/user_guide/indexing.html#returning-a-view-versus-a-copy\n",
            "  data['seasonality'] = decomposition.seasonal\n"
          ]
        }
      ]
    },
    {
      "cell_type": "code",
      "source": [
        "# X_train.trend.plot()\n",
        "# X_train.close_1.plot()"
      ],
      "metadata": {
        "colab": {
          "base_uri": "https://localhost:8080/",
          "height": 447
        },
        "id": "458LHzEXeJk_",
        "outputId": "3215f053-6d85-4dd3-eff4-d39fe0d5f59d"
      },
      "execution_count": 62,
      "outputs": [
        {
          "output_type": "execute_result",
          "data": {
            "text/plain": [
              "<Axes: >"
            ]
          },
          "metadata": {},
          "execution_count": 62
        },
        {
          "output_type": "display_data",
          "data": {
            "text/plain": [
              "<Figure size 640x480 with 1 Axes>"
            ],
            "image/png": "[encoded data removed]"
          },
          "metadata": {}
        }
      ]
    },
    {
      "cell_type": "code",
      "source": [
        "# X_train.seasonality.plot()"
      ],
      "metadata": {
        "colab": {
          "base_uri": "https://localhost:8080/",
          "height": 447
        },
        "id": "3Xfj3IPx8cCA",
        "outputId": "c21469ac-f0e4-4657-853e-1d719c9dd4ad"
      },
      "execution_count": 65,
      "outputs": [
        {
          "output_type": "execute_result",
          "data": {
            "text/plain": [
              "<Axes: >"
            ]
          },
          "metadata": {},
          "execution_count": 65
        },
        {
          "output_type": "display_data",
          "data": {
            "text/plain": [
              "<Figure size 640x480 with 1 Axes>"
            ],
            "image/png": "[encoded data removed]"
          },
          "metadata": {}
        }
      ]
    },
    {
      "cell_type": "code",
      "source": [
        "def scale_data(data, scale_type):\n",
        "  scaler = MinMaxScaler()\n",
        "  if scale_type == 'Reduce':\n",
        "    scaled_data = scaler.fit_transform(data)\n",
        "    return pd.DataFrame(scaled_data)\n",
        "  else:\n",
        "    reversed_data = scaler.inverse_transform(data)\n",
        "    return reversed_data"
      ],
      "metadata": {
        "id": "vO0EKM9XzPrr"
      },
      "execution_count": 24,
      "outputs": []
    },
    {
      "cell_type": "code",
      "source": [
        "def model_evaluate(y_test,y_pred,model_name):\n",
        "  # Evaluate the model\n",
        "  mse = mean_squared_error(y_test, y_pred)\n",
        "  mae = mean_absolute_error(y_test, y_pred)\n",
        "  r2 = r2_score(y_test, y_pred)\n",
        "\n",
        "  print(f\"{model_name} - Mean Squared Error: {mse}\")\n",
        "  print(f\"{model_name} - Mean Absolute Error: {mae}\")\n",
        "  print(f\"{model_name} - R-squared: {r2}\")"
      ],
      "metadata": {
        "id": "EPMODipB0ck_"
      },
      "execution_count": 74,
      "outputs": []
    },
    {
      "cell_type": "code",
      "source": [
        "def show_graph(y_test,y_pred,model):\n",
        "  y_pred = pd.DataFrame(y_pred)\n",
        "  y_pred.index = y_test.index\n",
        "  plt.plot(y_test, label='Actual')\n",
        "  plt.plot(y_pred, label='Predicted')\n",
        "  plt.title(f'{model} - Actual vs Predicted')\n",
        "  plt.legend()\n",
        "  plt.show()"
      ],
      "metadata": {
        "id": "C1J9S2ntMjhf"
      },
      "execution_count": 75,
      "outputs": []
    },
    {
      "cell_type": "markdown",
      "source": [
        "# Linear Regression"
      ],
      "metadata": {
        "id": "Nabcv6aB0Bdy"
      }
    },
    {
      "cell_type": "code",
      "source": [
        "linear_reg_pipeline = Pipeline([\n",
        "    ('scaler', MinMaxScaler()),\n",
        "    ('linear_reg', LinearRegression())\n",
        "])\n",
        "\n",
        "# Fit the pipeline on the training data\n",
        "linear_reg_pipeline.fit(X_train, y_train)"
      ],
      "metadata": {
        "colab": {
          "base_uri": "https://localhost:8080/",
          "height": 125
        },
        "id": "GVyXPI9p0INv",
        "outputId": "e8e6066c-5e76-41f9-f1ad-0a785fb4dfbb"
      },
      "execution_count": 69,
      "outputs": [
        {
          "output_type": "execute_result",
          "data": {
            "text/plain": [
              "Pipeline(steps=[('scaler', MinMaxScaler()), ('linear_reg', LinearRegression())])"
            ],
            "text/html": [
              "<style>#sk-container-id-1 {color: black;background-color: white;}#sk-container-id-1 pre{padding: 0;}#sk-container-id-1 div.sk-toggleable {background-color: white;}#sk-container-id-1 label.sk-toggleable__label {cursor: pointer;display: block;width: 100%;margin-bottom: 0;padding: 0.3em;box-sizing: border-box;text-align: center;}#sk-container-id-1 label.sk-toggleable__label-arrow:before {content: \"▸\";float: left;margin-right: 0.25em;color: #696969;}#sk-container-id-1 label.sk-toggleable__label-arrow:hover:before {color: black;}#sk-container-id-1 div.sk-estimator:hover label.sk-toggleable__label-arrow:before {color: black;}#sk-container-id-1 div.sk-toggleable__content {max-height: 0;max-width: 0;overflow: hidden;text-align: left;background-color: #f0f8ff;}#sk-container-id-1 div.sk-toggleable__content pre {margin: 0.2em;color: black;border-radius: 0.25em;background-color: #f0f8ff;}#sk-container-id-1 input.sk-toggleable__control:checked~div.sk-toggleable__content {max-height: 200px;max-width: 100%;overflow: auto;}#sk-container-id-1 input.sk-toggleable__control:checked~label.sk-toggleable__label-arrow:before {content: \"▾\";}#sk-container-id-1 div.sk-estimator input.sk-toggleable__control:checked~label.sk-toggleable__label {background-color: #d4ebff;}#sk-container-id-1 div.sk-label input.sk-toggleable__control:checked~label.sk-toggleable__label {background-color: #d4ebff;}#sk-container-id-1 input.sk-hidden--visually {border: 0;clip: rect(1px 1px 1px 1px);clip: rect(1px, 1px, 1px, 1px);height: 1px;margin: -1px;overflow: hidden;padding: 0;position: absolute;width: 1px;}#sk-container-id-1 div.sk-estimator {font-family: monospace;background-color: #f0f8ff;border: 1px dotted black;border-radius: 0.25em;box-sizing: border-box;margin-bottom: 0.5em;}#sk-container-id-1 div.sk-estimator:hover {background-color: #d4ebff;}#sk-container-id-1 div.sk-parallel-item::after {content: \"\";width: 100%;border-bottom: 1px solid gray;flex-grow: 1;}#sk-container-id-1 div.sk-label:hover label.sk-toggleable__label {background-color: #d4ebff;}#sk-container-id-1 div.sk-serial::before {content: \"\";position: absolute;border-left: 1px solid gray;box-sizing: border-box;top: 0;bottom: 0;left: 50%;z-index: 0;}#sk-container-id-1 div.sk-serial {display: flex;flex-direction: column;align-items: center;background-color: white;padding-right: 0.2em;padding-left: 0.2em;position: relative;}#sk-container-id-1 div.sk-item {position: relative;z-index: 1;}#sk-container-id-1 div.sk-parallel {display: flex;align-items: stretch;justify-content: center;background-color: white;position: relative;}#sk-container-id-1 div.sk-item::before, #sk-container-id-1 div.sk-parallel-item::before {content: \"\";position: absolute;border-left: 1px solid gray;box-sizing: border-box;top: 0;bottom: 0;left: 50%;z-index: -1;}#sk-container-id-1 div.sk-parallel-item {display: flex;flex-direction: column;z-index: 1;position: relative;background-color: white;}#sk-container-id-1 div.sk-parallel-item:first-child::after {align-self: flex-end;width: 50%;}#sk-container-id-1 div.sk-parallel-item:last-child::after {align-self: flex-start;width: 50%;}#sk-container-id-1 div.sk-parallel-item:only-child::after {width: 0;}#sk-container-id-1 div.sk-dashed-wrapped {border: 1px dashed gray;margin: 0 0.4em 0.5em 0.4em;box-sizing: border-box;padding-bottom: 0.4em;background-color: white;}#sk-container-id-1 div.sk-label label {font-family: monospace;font-weight: bold;display: inline-block;line-height: 1.2em;}#sk-container-id-1 div.sk-label-container {text-align: center;}#sk-container-id-1 div.sk-container {/* jupyter's `normalize.less` sets `[hidden] { display: none; }` but bootstrap.min.css set `[hidden] { display: none !important; }` so we also need the `!important` here to be able to override the default hidden behavior on the sphinx rendered scikit-learn.org. See: https://github.com/scikit-learn/scikit-learn/issues/21755 */display: inline-block !important;position: relative;}#sk-container-id-1 div.sk-text-repr-fallback {display: none;}</style><div id=\"sk-container-id-1\" class=\"sk-top-container\"><div class=\"sk-text-repr-fallback\"><pre>Pipeline(steps=[(&#x27;scaler&#x27;, MinMaxScaler()), (&#x27;linear_reg&#x27;, LinearRegression())])</pre><b>In a Jupyter environment, please rerun this cell to show the HTML representation or trust the notebook. <br />On GitHub, the HTML representation is unable to render, please try loading this page with nbviewer.org.</b></div><div class=\"sk-container\" hidden><div class=\"sk-item sk-dashed-wrapped\"><div class=\"sk-label-container\"><div class=\"sk-label sk-toggleable\"><input class=\"sk-toggleable__control sk-hidden--visually\" id=\"sk-estimator-id-1\" type=\"checkbox\" ><label for=\"sk-estimator-id-1\" class=\"sk-toggleable__label sk-toggleable__label-arrow\">Pipeline</label><div class=\"sk-toggleable__content\"><pre>Pipeline(steps=[(&#x27;scaler&#x27;, MinMaxScaler()), (&#x27;linear_reg&#x27;, LinearRegression())])</pre></div></div></div><div class=\"sk-serial\"><div class=\"sk-item\"><div class=\"sk-estimator sk-toggleable\"><input class=\"sk-toggleable__control sk-hidden--visually\" id=\"sk-estimator-id-2\" type=\"checkbox\" ><label for=\"sk-estimator-id-2\" class=\"sk-toggleable__label sk-toggleable__label-arrow\">MinMaxScaler</label><div class=\"sk-toggleable__content\"><pre>MinMaxScaler()</pre></div></div></div><div class=\"sk-item\"><div class=\"sk-estimator sk-toggleable\"><input class=\"sk-toggleable__control sk-hidden--visually\" id=\"sk-estimator-id-3\" type=\"checkbox\" ><label for=\"sk-estimator-id-3\" class=\"sk-toggleable__label sk-toggleable__label-arrow\">LinearRegression</label><div class=\"sk-toggleable__content\"><pre>LinearRegression()</pre></div></div></div></div></div></div></div>"
            ]
          },
          "metadata": {},
          "execution_count": 69
        }
      ]
    },
    {
      "cell_type": "code",
      "source": [
        "X_test"
      ],
      "metadata": {
        "colab": {
          "base_uri": "https://localhost:8080/",
          "height": 443
        },
        "id": "9SU6FthEJexq",
        "outputId": "7826434c-824a-422b-b824-1f827df1ff06"
      },
      "execution_count": 70,
      "outputs": [
        {
          "output_type": "execute_result",
          "data": {
            "text/plain": [
              "      close_1  close_2  close_3  close_4  close_5  close_6  close_7  close_8  \\\n",
              "1059   119.36   119.23   119.21   116.95   116.24   115.72   114.86   115.58   \n",
              "1060   118.69   119.36   119.23   119.21   116.95   116.24   115.72   114.86   \n",
              "1061   118.98   118.69   119.36   119.23   119.21   116.95   116.24   115.72   \n",
              "1062   120.49   118.98   118.69   119.36   119.23   119.21   116.95   116.24   \n",
              "1063   121.30   120.49   118.98   118.69   119.36   119.23   119.21   116.95   \n",
              "...       ...      ...      ...      ...      ...      ...      ...      ...   \n",
              "1195   144.04   143.43   142.96   142.36   143.29   143.28   141.97   141.22   \n",
              "1196   143.93   144.04   143.43   142.96   142.36   143.29   143.28   141.97   \n",
              "1197   143.50   143.93   144.04   143.43   142.96   142.36   143.29   143.28   \n",
              "1198   144.89   143.50   143.93   144.04   143.43   142.96   142.36   143.29   \n",
              "1199   143.83   144.89   143.50   143.93   144.04   143.43   142.96   142.36   \n",
              "\n",
              "      close_9  close_10  ...  close_83  close_84  close_85  close_86  \\\n",
              "1059   116.08    117.84  ...    117.79    117.90    124.10    123.65   \n",
              "1060   115.58    116.08  ...    117.48    117.79    117.90    124.10   \n",
              "1061   114.86    115.58  ...    117.55    117.48    117.79    117.90   \n",
              "1062   115.72    114.86  ...    116.61    117.55    117.48    117.79   \n",
              "1063   116.24    115.72  ...    117.01    116.61    117.55    117.48   \n",
              "...       ...       ...  ...       ...       ...       ...       ...   \n",
              "1195   138.91    139.33  ...    123.85    124.06    124.21    122.94   \n",
              "1196   141.22    138.91  ...    125.47    123.85    124.06    124.21   \n",
              "1197   141.97    141.22  ...    125.73    125.47    123.85    124.06   \n",
              "1198   143.28    141.97  ...    126.70    125.73    125.47    123.85   \n",
              "1199   143.29    143.28  ...    126.42    126.70    125.73    125.47   \n",
              "\n",
              "      close_87  close_88  close_89  close_90       trend  seasonality  \n",
              "1059    123.00    124.55    123.65    125.40  122.121833     0.983833  \n",
              "1060    123.65    123.00    124.55    123.65  122.143944     0.983807  \n",
              "1061    124.10    123.65    123.00    124.55  122.162833     0.981571  \n",
              "1062    117.90    124.10    123.65    123.00  122.175944     0.985643  \n",
              "1063    117.79    117.90    124.10    123.65  122.192167     0.993164  \n",
              "...        ...       ...       ...       ...         ...          ...  \n",
              "1195    124.05    123.93    123.68    122.99  143.573444     0.999271  \n",
              "1196    122.94    124.05    123.93    123.68  143.890944     0.994268  \n",
              "1197    124.21    122.94    124.05    123.93  144.220667     0.993934  \n",
              "1198    124.06    124.21    122.94    124.05  144.538333     0.998248  \n",
              "1199    123.85    124.06    124.21    122.94  144.831722     0.993532  \n",
              "\n",
              "[141 rows x 92 columns]"
            ],
            "text/html": [
              "\n",
              "  <div id=\"df-99e1bcc5-9d3b-41bc-997b-e6908bcd5554\" class=\"colab-df-container\">\n",
              "    <div>\n",
              "<style scoped>\n",
              "    .dataframe tbody tr th:only-of-type {\n",
              "        vertical-align: middle;\n",
              "    }\n",
              "\n",
              "    .dataframe tbody tr th {\n",
              "        vertical-align: top;\n",
              "    }\n",
              "\n",
              "    .dataframe thead th {\n",
              "        text-align: right;\n",
              "    }\n",
              "</style>\n",
              "<table border=\"1\" class=\"dataframe\">\n",
              "  <thead>\n",
              "    <tr style=\"text-align: right;\">\n",
              "      <th></th>\n",
              "      <th>close_1</th>\n",
              "      <th>close_2</th>\n",
              "      <th>close_3</th>\n",
              "      <th>close_4</th>\n",
              "      <th>close_5</th>\n",
              "      <th>close_6</th>\n",
              "      <th>close_7</th>\n",
              "      <th>close_8</th>\n",
              "      <th>close_9</th>\n",
              "      <th>close_10</th>\n",
              "      <th>...</th>\n",
              "      <th>close_83</th>\n",
              "      <th>close_84</th>\n",
              "      <th>close_85</th>\n",
              "      <th>close_86</th>\n",
              "      <th>close_87</th>\n",
              "      <th>close_88</th>\n",
              "      <th>close_89</th>\n",
              "      <th>close_90</th>\n",
              "      <th>trend</th>\n",
              "      <th>seasonality</th>\n",
              "    </tr>\n",
              "  </thead>\n",
              "  <tbody>\n",
              "    <tr>\n",
              "      <th>1059</th>\n",
              "      <td>119.36</td>\n",
              "      <td>119.23</td>\n",
              "      <td>119.21</td>\n",
              "      <td>116.95</td>\n",
              "      <td>116.24</td>\n",
              "      <td>115.72</td>\n",
              "      <td>114.86</td>\n",
              "      <td>115.58</td>\n",
              "      <td>116.08</td>\n",
              "      <td>117.84</td>\n",
              "      <td>...</td>\n",
              "      <td>117.79</td>\n",
              "      <td>117.90</td>\n",
              "      <td>124.10</td>\n",
              "      <td>123.65</td>\n",
              "      <td>123.00</td>\n",
              "      <td>124.55</td>\n",
              "      <td>123.65</td>\n",
              "      <td>125.40</td>\n",
              "      <td>122.121833</td>\n",
              "      <td>0.983833</td>\n",
              "    </tr>\n",
              "    <tr>\n",
              "      <th>1060</th>\n",
              "      <td>118.69</td>\n",
              "      <td>119.36</td>\n",
              "      <td>119.23</td>\n",
              "      <td>119.21</td>\n",
              "      <td>116.95</td>\n",
              "      <td>116.24</td>\n",
              "      <td>115.72</td>\n",
              "      <td>114.86</td>\n",
              "      <td>115.58</td>\n",
              "      <td>116.08</td>\n",
              "      <td>...</td>\n",
              "      <td>117.48</td>\n",
              "      <td>117.79</td>\n",
              "      <td>117.90</td>\n",
              "      <td>124.10</td>\n",
              "      <td>123.65</td>\n",
              "      <td>123.00</td>\n",
              "      <td>124.55</td>\n",
              "      <td>123.65</td>\n",
              "      <td>122.143944</td>\n",
              "      <td>0.983807</td>\n",
              "    </tr>\n",
              "    <tr>\n",
              "      <th>1061</th>\n",
              "      <td>118.98</td>\n",
              "      <td>118.69</td>\n",
              "      <td>119.36</td>\n",
              "      <td>119.23</td>\n",
              "      <td>119.21</td>\n",
              "      <td>116.95</td>\n",
              "      <td>116.24</td>\n",
              "      <td>115.72</td>\n",
              "      <td>114.86</td>\n",
              "      <td>115.58</td>\n",
              "      <td>...</td>\n",
              "      <td>117.55</td>\n",
              "      <td>117.48</td>\n",
              "      <td>117.79</td>\n",
              "      <td>117.90</td>\n",
              "      <td>124.10</td>\n",
              "      <td>123.65</td>\n",
              "      <td>123.00</td>\n",
              "      <td>124.55</td>\n",
              "      <td>122.162833</td>\n",
              "      <td>0.981571</td>\n",
              "    </tr>\n",
              "    <tr>\n",
              "      <th>1062</th>\n",
              "      <td>120.49</td>\n",
              "      <td>118.98</td>\n",
              "      <td>118.69</td>\n",
              "      <td>119.36</td>\n",
              "      <td>119.23</td>\n",
              "      <td>119.21</td>\n",
              "      <td>116.95</td>\n",
              "      <td>116.24</td>\n",
              "      <td>115.72</td>\n",
              "      <td>114.86</td>\n",
              "      <td>...</td>\n",
              "      <td>116.61</td>\n",
              "      <td>117.55</td>\n",
              "      <td>117.48</td>\n",
              "      <td>117.79</td>\n",
              "      <td>117.90</td>\n",
              "      <td>124.10</td>\n",
              "      <td>123.65</td>\n",
              "      <td>123.00</td>\n",
              "      <td>122.175944</td>\n",
              "      <td>0.985643</td>\n",
              "    </tr>\n",
              "    <tr>\n",
              "      <th>1063</th>\n",
              "      <td>121.30</td>\n",
              "      <td>120.49</td>\n",
              "      <td>118.98</td>\n",
              "      <td>118.69</td>\n",
              "      <td>119.36</td>\n",
              "      <td>119.23</td>\n",
              "      <td>119.21</td>\n",
              "      <td>116.95</td>\n",
              "      <td>116.24</td>\n",
              "      <td>115.72</td>\n",
              "      <td>...</td>\n",
              "      <td>117.01</td>\n",
              "      <td>116.61</td>\n",
              "      <td>117.55</td>\n",
              "      <td>117.48</td>\n",
              "      <td>117.79</td>\n",
              "      <td>117.90</td>\n",
              "      <td>124.10</td>\n",
              "      <td>123.65</td>\n",
              "      <td>122.192167</td>\n",
              "      <td>0.993164</td>\n",
              "    </tr>\n",
              "    <tr>\n",
              "      <th>...</th>\n",
              "      <td>...</td>\n",
              "      <td>...</td>\n",
              "      <td>...</td>\n",
              "      <td>...</td>\n",
              "      <td>...</td>\n",
              "      <td>...</td>\n",
              "      <td>...</td>\n",
              "      <td>...</td>\n",
              "      <td>...</td>\n",
              "      <td>...</td>\n",
              "      <td>...</td>\n",
              "      <td>...</td>\n",
              "      <td>...</td>\n",
              "      <td>...</td>\n",
              "      <td>...</td>\n",
              "      <td>...</td>\n",
              "      <td>...</td>\n",
              "      <td>...</td>\n",
              "      <td>...</td>\n",
              "      <td>...</td>\n",
              "      <td>...</td>\n",
              "    </tr>\n",
              "    <tr>\n",
              "      <th>1195</th>\n",
              "      <td>144.04</td>\n",
              "      <td>143.43</td>\n",
              "      <td>142.96</td>\n",
              "      <td>142.36</td>\n",
              "      <td>143.29</td>\n",
              "      <td>143.28</td>\n",
              "      <td>141.97</td>\n",
              "      <td>141.22</td>\n",
              "      <td>138.91</td>\n",
              "      <td>139.33</td>\n",
              "      <td>...</td>\n",
              "      <td>123.85</td>\n",
              "      <td>124.06</td>\n",
              "      <td>124.21</td>\n",
              "      <td>122.94</td>\n",
              "      <td>124.05</td>\n",
              "      <td>123.93</td>\n",
              "      <td>123.68</td>\n",
              "      <td>122.99</td>\n",
              "      <td>143.573444</td>\n",
              "      <td>0.999271</td>\n",
              "    </tr>\n",
              "    <tr>\n",
              "      <th>1196</th>\n",
              "      <td>143.93</td>\n",
              "      <td>144.04</td>\n",
              "      <td>143.43</td>\n",
              "      <td>142.96</td>\n",
              "      <td>142.36</td>\n",
              "      <td>143.29</td>\n",
              "      <td>143.28</td>\n",
              "      <td>141.97</td>\n",
              "      <td>141.22</td>\n",
              "      <td>138.91</td>\n",
              "      <td>...</td>\n",
              "      <td>125.47</td>\n",
              "      <td>123.85</td>\n",
              "      <td>124.06</td>\n",
              "      <td>124.21</td>\n",
              "      <td>122.94</td>\n",
              "      <td>124.05</td>\n",
              "      <td>123.93</td>\n",
              "      <td>123.68</td>\n",
              "      <td>143.890944</td>\n",
              "      <td>0.994268</td>\n",
              "    </tr>\n",
              "    <tr>\n",
              "      <th>1197</th>\n",
              "      <td>143.50</td>\n",
              "      <td>143.93</td>\n",
              "      <td>144.04</td>\n",
              "      <td>143.43</td>\n",
              "      <td>142.96</td>\n",
              "      <td>142.36</td>\n",
              "      <td>143.29</td>\n",
              "      <td>143.28</td>\n",
              "      <td>141.97</td>\n",
              "      <td>141.22</td>\n",
              "      <td>...</td>\n",
              "      <td>125.73</td>\n",
              "      <td>125.47</td>\n",
              "      <td>123.85</td>\n",
              "      <td>124.06</td>\n",
              "      <td>124.21</td>\n",
              "      <td>122.94</td>\n",
              "      <td>124.05</td>\n",
              "      <td>123.93</td>\n",
              "      <td>144.220667</td>\n",
              "      <td>0.993934</td>\n",
              "    </tr>\n",
              "    <tr>\n",
              "      <th>1198</th>\n",
              "      <td>144.89</td>\n",
              "      <td>143.50</td>\n",
              "      <td>143.93</td>\n",
              "      <td>144.04</td>\n",
              "      <td>143.43</td>\n",
              "      <td>142.96</td>\n",
              "      <td>142.36</td>\n",
              "      <td>143.29</td>\n",
              "      <td>143.28</td>\n",
              "      <td>141.97</td>\n",
              "      <td>...</td>\n",
              "      <td>126.70</td>\n",
              "      <td>125.73</td>\n",
              "      <td>125.47</td>\n",
              "      <td>123.85</td>\n",
              "      <td>124.06</td>\n",
              "      <td>124.21</td>\n",
              "      <td>122.94</td>\n",
              "      <td>124.05</td>\n",
              "      <td>144.538333</td>\n",
              "      <td>0.998248</td>\n",
              "    </tr>\n",
              "    <tr>\n",
              "      <th>1199</th>\n",
              "      <td>143.83</td>\n",
              "      <td>144.89</td>\n",
              "      <td>143.50</td>\n",
              "      <td>143.93</td>\n",
              "      <td>144.04</td>\n",
              "      <td>143.43</td>\n",
              "      <td>142.96</td>\n",
              "      <td>142.36</td>\n",
              "      <td>143.29</td>\n",
              "      <td>143.28</td>\n",
              "      <td>...</td>\n",
              "      <td>126.42</td>\n",
              "      <td>126.70</td>\n",
              "      <td>125.73</td>\n",
              "      <td>125.47</td>\n",
              "      <td>123.85</td>\n",
              "      <td>124.06</td>\n",
              "      <td>124.21</td>\n",
              "      <td>122.94</td>\n",
              "      <td>144.831722</td>\n",
              "      <td>0.993532</td>\n",
              "    </tr>\n",
              "  </tbody>\n",
              "</table>\n",
              "<p>141 rows × 92 columns</p>\n",
              "</div>\n",
              "    <div class=\"colab-df-buttons\">\n",
              "\n",
              "  <div class=\"colab-df-container\">\n",
              "    <button class=\"colab-df-convert\" onclick=\"convertToInteractive('df-99e1bcc5-9d3b-41bc-997b-e6908bcd5554')\"\n",
              "            title=\"Convert this dataframe to an interactive table.\"\n",
              "            style=\"display:none;\">\n",
              "\n",
              "  <svg xmlns=\"http://www.w3.org/2000/svg\" height=\"24px\" viewBox=\"0 -960 960 960\">\n",
              "    <path d=\"M120-120v-720h720v720H120Zm60-500h600v-160H180v160Zm220 220h160v-160H400v160Zm0 220h160v-160H400v160ZM180-400h160v-160H180v160Zm440 0h160v-160H620v160ZM180-180h160v-160H180v160Zm440 0h160v-160H620v160Z\"/>\n",
              "  </svg>\n",
              "    </button>\n",
              "\n",
              "  <style>\n",
              "    .colab-df-container {\n",
              "      display:flex;\n",
              "      gap: 12px;\n",
              "    }\n",
              "\n",
              "    .colab-df-convert {\n",
              "      background-color: #E8F0FE;\n",
              "      border: none;\n",
              "      border-radius: 50%;\n",
              "      cursor: pointer;\n",
              "      display: none;\n",
              "      fill: #1967D2;\n",
              "      height: 32px;\n",
              "      padding: 0 0 0 0;\n",
              "      width: 32px;\n",
              "    }\n",
              "\n",
              "    .colab-df-convert:hover {\n",
              "      background-color: #E2EBFA;\n",
              "      box-shadow: 0px 1px 2px rgba(60, 64, 67, 0.3), 0px 1px 3px 1px rgba(60, 64, 67, 0.15);\n",
              "      fill: #174EA6;\n",
              "    }\n",
              "\n",
              "    .colab-df-buttons div {\n",
              "      margin-bottom: 4px;\n",
              "    }\n",
              "\n",
              "    [theme=dark] .colab-df-convert {\n",
              "      background-color: #3B4455;\n",
              "      fill: #D2E3FC;\n",
              "    }\n",
              "\n",
              "    [theme=dark] .colab-df-convert:hover {\n",
              "      background-color: #434B5C;\n",
              "      box-shadow: 0px 1px 3px 1px rgba(0, 0, 0, 0.15);\n",
              "      filter: drop-shadow(0px 1px 2px rgba(0, 0, 0, 0.3));\n",
              "      fill: #FFFFFF;\n",
              "    }\n",
              "  </style>\n",
              "\n",
              "    <script>\n",
              "      const buttonEl =\n",
              "        document.querySelector('#df-99e1bcc5-9d3b-41bc-997b-e6908bcd5554 button.colab-df-convert');\n",
              "      buttonEl.style.display =\n",
              "        google.colab.kernel.accessAllowed ? 'block' : 'none';\n",
              "\n",
              "      async function convertToInteractive(key) {\n",
              "        const element = document.querySelector('#df-99e1bcc5-9d3b-41bc-997b-e6908bcd5554');\n",
              "        const dataTable =\n",
              "          await google.colab.kernel.invokeFunction('convertToInteractive',\n",
              "                                                    [key], {});\n",
              "        if (!dataTable) return;\n",
              "\n",
              "        const docLinkHtml = 'Like what you see? Visit the ' +\n",
              "          '<a target=\"_blank\" href=https://colab.research.google.com/notebooks/data_table.ipynb>data table notebook</a>'\n",
              "          + ' to learn more about interactive tables.';\n",
              "        element.innerHTML = '';\n",
              "        dataTable['output_type'] = 'display_data';\n",
              "        await google.colab.output.renderOutput(dataTable, element);\n",
              "        const docLink = document.createElement('div');\n",
              "        docLink.innerHTML = docLinkHtml;\n",
              "        element.appendChild(docLink);\n",
              "      }\n",
              "    </script>\n",
              "  </div>\n",
              "\n",
              "\n",
              "<div id=\"df-6759b6ef-000b-421a-96e6-a248d68c1cff\">\n",
              "  <button class=\"colab-df-quickchart\" onclick=\"quickchart('df-6759b6ef-000b-421a-96e6-a248d68c1cff')\"\n",
              "            title=\"Suggest charts\"\n",
              "            style=\"display:none;\">\n",
              "\n",
              "<svg xmlns=\"http://www.w3.org/2000/svg\" height=\"24px\"viewBox=\"0 0 24 24\"\n",
              "     width=\"24px\">\n",
              "    <g>\n",
              "        <path d=\"M19 3H5c-1.1 0-2 .9-2 2v14c0 1.1.9 2 2 2h14c1.1 0 2-.9 2-2V5c0-1.1-.9-2-2-2zM9 17H7v-7h2v7zm4 0h-2V7h2v10zm4 0h-2v-4h2v4z\"/>\n",
              "    </g>\n",
              "</svg>\n",
              "  </button>\n",
              "\n",
              "<style>\n",
              "  .colab-df-quickchart {\n",
              "      --bg-color: #E8F0FE;\n",
              "      --fill-color: #1967D2;\n",
              "      --hover-bg-color: #E2EBFA;\n",
              "      --hover-fill-color: #174EA6;\n",
              "      --disabled-fill-color: #AAA;\n",
              "      --disabled-bg-color: #DDD;\n",
              "  }\n",
              "\n",
              "  [theme=dark] .colab-df-quickchart {\n",
              "      --bg-color: #3B4455;\n",
              "      --fill-color: #D2E3FC;\n",
              "      --hover-bg-color: #434B5C;\n",
              "      --hover-fill-color: #FFFFFF;\n",
              "      --disabled-bg-color: #3B4455;\n",
              "      --disabled-fill-color: #666;\n",
              "  }\n",
              "\n",
              "  .colab-df-quickchart {\n",
              "    background-color: var(--bg-color);\n",
              "    border: none;\n",
              "    border-radius: 50%;\n",
              "    cursor: pointer;\n",
              "    display: none;\n",
              "    fill: var(--fill-color);\n",
              "    height: 32px;\n",
              "    padding: 0;\n",
              "    width: 32px;\n",
              "  }\n",
              "\n",
              "  .colab-df-quickchart:hover {\n",
              "    background-color: var(--hover-bg-color);\n",
              "    box-shadow: 0 1px 2px rgba(60, 64, 67, 0.3), 0 1px 3px 1px rgba(60, 64, 67, 0.15);\n",
              "    fill: var(--button-hover-fill-color);\n",
              "  }\n",
              "\n",
              "  .colab-df-quickchart-complete:disabled,\n",
              "  .colab-df-quickchart-complete:disabled:hover {\n",
              "    background-color: var(--disabled-bg-color);\n",
              "    fill: var(--disabled-fill-color);\n",
              "    box-shadow: none;\n",
              "  }\n",
              "\n",
              "  .colab-df-spinner {\n",
              "    border: 2px solid var(--fill-color);\n",
              "    border-color: transparent;\n",
              "    border-bottom-color: var(--fill-color);\n",
              "    animation:\n",
              "      spin 1s steps(1) infinite;\n",
              "  }\n",
              "\n",
              "  @keyframes spin {\n",
              "    0% {\n",
              "      border-color: transparent;\n",
              "      border-bottom-color: var(--fill-color);\n",
              "      border-left-color: var(--fill-color);\n",
              "    }\n",
              "    20% {\n",
              "      border-color: transparent;\n",
              "      border-left-color: var(--fill-color);\n",
              "      border-top-color: var(--fill-color);\n",
              "    }\n",
              "    30% {\n",
              "      border-color: transparent;\n",
              "      border-left-color: var(--fill-color);\n",
              "      border-top-color: var(--fill-color);\n",
              "      border-right-color: var(--fill-color);\n",
              "    }\n",
              "    40% {\n",
              "      border-color: transparent;\n",
              "      border-right-color: var(--fill-color);\n",
              "      border-top-color: var(--fill-color);\n",
              "    }\n",
              "    60% {\n",
              "      border-color: transparent;\n",
              "      border-right-color: var(--fill-color);\n",
              "    }\n",
              "    80% {\n",
              "      border-color: transparent;\n",
              "      border-right-color: var(--fill-color);\n",
              "      border-bottom-color: var(--fill-color);\n",
              "    }\n",
              "    90% {\n",
              "      border-color: transparent;\n",
              "      border-bottom-color: var(--fill-color);\n",
              "    }\n",
              "  }\n",
              "</style>\n",
              "\n",
              "  <script>\n",
              "    async function quickchart(key) {\n",
              "      const quickchartButtonEl =\n",
              "        document.querySelector('#' + key + ' button');\n",
              "      quickchartButtonEl.disabled = true;  // To prevent multiple clicks.\n",
              "      quickchartButtonEl.classList.add('colab-df-spinner');\n",
              "      try {\n",
              "        const charts = await google.colab.kernel.invokeFunction(\n",
              "            'suggestCharts', [key], {});\n",
              "      } catch (error) {\n",
              "        console.error('Error during call to suggestCharts:', error);\n",
              "      }\n",
              "      quickchartButtonEl.classList.remove('colab-df-spinner');\n",
              "      quickchartButtonEl.classList.add('colab-df-quickchart-complete');\n",
              "    }\n",
              "    (() => {\n",
              "      let quickchartButtonEl =\n",
              "        document.querySelector('#df-6759b6ef-000b-421a-96e6-a248d68c1cff button');\n",
              "      quickchartButtonEl.style.display =\n",
              "        google.colab.kernel.accessAllowed ? 'block' : 'none';\n",
              "    })();\n",
              "  </script>\n",
              "</div>\n",
              "\n",
              "  <div id=\"id_5e3fa1f2-b254-4023-bf7b-a3c71adb1020\">\n",
              "    <style>\n",
              "      .colab-df-generate {\n",
              "        background-color: #E8F0FE;\n",
              "        border: none;\n",
              "        border-radius: 50%;\n",
              "        cursor: pointer;\n",
              "        display: none;\n",
              "        fill: #1967D2;\n",
              "        height: 32px;\n",
              "        padding: 0 0 0 0;\n",
              "        width: 32px;\n",
              "      }\n",
              "\n",
              "      .colab-df-generate:hover {\n",
              "        background-color: #E2EBFA;\n",
              "        box-shadow: 0px 1px 2px rgba(60, 64, 67, 0.3), 0px 1px 3px 1px rgba(60, 64, 67, 0.15);\n",
              "        fill: #174EA6;\n",
              "      }\n",
              "\n",
              "      [theme=dark] .colab-df-generate {\n",
              "        background-color: #3B4455;\n",
              "        fill: #D2E3FC;\n",
              "      }\n",
              "\n",
              "      [theme=dark] .colab-df-generate:hover {\n",
              "        background-color: #434B5C;\n",
              "        box-shadow: 0px 1px 3px 1px rgba(0, 0, 0, 0.15);\n",
              "        filter: drop-shadow(0px 1px 2px rgba(0, 0, 0, 0.3));\n",
              "        fill: #FFFFFF;\n",
              "      }\n",
              "    </style>\n",
              "    <button class=\"colab-df-generate\" onclick=\"generateWithVariable('X_test')\"\n",
              "            title=\"Generate code using this dataframe.\"\n",
              "            style=\"display:none;\">\n",
              "\n",
              "  <svg xmlns=\"http://www.w3.org/2000/svg\" height=\"24px\"viewBox=\"0 0 24 24\"\n",
              "       width=\"24px\">\n",
              "    <path d=\"M7,19H8.4L18.45,9,17,7.55,7,17.6ZM5,21V16.75L18.45,3.32a2,2,0,0,1,2.83,0l1.4,1.43a1.91,1.91,0,0,1,.58,1.4,1.91,1.91,0,0,1-.58,1.4L9.25,21ZM18.45,9,17,7.55Zm-12,3A5.31,5.31,0,0,0,4.9,8.1,5.31,5.31,0,0,0,1,6.5,5.31,5.31,0,0,0,4.9,4.9,5.31,5.31,0,0,0,6.5,1,5.31,5.31,0,0,0,8.1,4.9,5.31,5.31,0,0,0,12,6.5,5.46,5.46,0,0,0,6.5,12Z\"/>\n",
              "  </svg>\n",
              "    </button>\n",
              "    <script>\n",
              "      (() => {\n",
              "      const buttonEl =\n",
              "        document.querySelector('#id_5e3fa1f2-b254-4023-bf7b-a3c71adb1020 button.colab-df-generate');\n",
              "      buttonEl.style.display =\n",
              "        google.colab.kernel.accessAllowed ? 'block' : 'none';\n",
              "\n",
              "      buttonEl.onclick = () => {\n",
              "        google.colab.notebook.generateWithVariable('X_test');\n",
              "      }\n",
              "      })();\n",
              "    </script>\n",
              "  </div>\n",
              "\n",
              "    </div>\n",
              "  </div>\n"
            ],
            "application/vnd.google.colaboratory.intrinsic+json": {
              "type": "dataframe",
              "variable_name": "X_test"
            }
          },
          "metadata": {},
          "execution_count": 70
        }
      ]
    },
    {
      "cell_type": "code",
      "source": [
        "# Make predictions on the test set\n",
        "y_pred = linear_reg_pipeline.predict(X_test)"
      ],
      "metadata": {
        "id": "1JzArxAv1AGW"
      },
      "execution_count": 71,
      "outputs": []
    },
    {
      "cell_type": "code",
      "source": [
        "linear_reg_pipeline.score(X_test,y_test)"
      ],
      "metadata": {
        "colab": {
          "base_uri": "https://localhost:8080/"
        },
        "id": "T862bgEK2wJu",
        "outputId": "ec4cb417-f3a2-4910-ee2f-2d3f3e50820c"
      },
      "execution_count": 72,
      "outputs": [
        {
          "output_type": "execute_result",
          "data": {
            "text/plain": [
              "0.30045342518888407"
            ]
          },
          "metadata": {},
          "execution_count": 72
        }
      ]
    },
    {
      "cell_type": "code",
      "source": [
        "model_evaluate(y_test,y_pred,'Linear Regression')"
      ],
      "metadata": {
        "colab": {
          "base_uri": "https://localhost:8080/"
        },
        "id": "VYtKmUgV3vHj",
        "outputId": "5d13f596-508d-4dd6-f3f8-f3c6a9d8ec54"
      },
      "execution_count": 76,
      "outputs": [
        {
          "output_type": "stream",
          "name": "stdout",
          "text": [
            "Linear Regression - Mean Squared Error: 81.05482818686204\n",
            "Linear Regression - Mean Absolute Error: 7.854106879243405\n",
            "Linear Regression - R-squared: 0.30045342518888407\n"
          ]
        }
      ]
    },
    {
      "cell_type": "code",
      "source": [
        "show_graph(y_test,y_pred,'Linear')"
      ],
      "metadata": {
        "id": "HIfMM3W77yLd",
        "colab": {
          "base_uri": "https://localhost:8080/",
          "height": 452
        },
        "outputId": "e44fd8f9-76fd-49a0-dd27-44574b338736"
      },
      "execution_count": 77,
      "outputs": [
        {
          "output_type": "display_data",
          "data": {
            "text/plain": [
              "<Figure size 640x480 with 1 Axes>"
            ],
            "image/png": "[encoded data removed]"
          },
          "metadata": {}
        }
      ]
    },
    {
      "cell_type": "code",
      "source": [
        "y_train"
      ],
      "metadata": {
        "colab": {
          "base_uri": "https://localhost:8080/"
        },
        "id": "K49lWdwKmnLi",
        "outputId": "8cb52750-52fb-4a65-ace7-769ae8fcff06"
      },
      "execution_count": 33,
      "outputs": [
        {
          "output_type": "execute_result",
          "data": {
            "text/plain": [
              "90       74.35\n",
              "91       75.20\n",
              "92       75.52\n",
              "93       76.25\n",
              "94       75.29\n",
              "         ...  \n",
              "1009    123.64\n",
              "1010    123.24\n",
              "1011    124.14\n",
              "1012    124.46\n",
              "1013    123.18\n",
              "Name: Target, Length: 924, dtype: float64"
            ]
          },
          "metadata": {},
          "execution_count": 33
        }
      ]
    },
    {
      "cell_type": "code",
      "source": [
        "print(linear_reg_pipeline.named_steps['linear_reg'].intercept_)\n",
        "print(linear_reg_pipeline.named_steps['linear_reg'].coef_)"
      ],
      "metadata": {
        "colab": {
          "base_uri": "https://localhost:8080/"
        },
        "id": "p5HYUm6MszvO",
        "outputId": "83d7974f-4e67-4c48-f4a8-0dd20ccbe0e4"
      },
      "execution_count": 34,
      "outputs": [
        {
          "output_type": "stream",
          "name": "stdout",
          "text": [
            "71.30605331608302\n",
            "[32.54191103  0.61426215  2.66614195  0.19879397  0.54186244  2.28460466\n",
            "  0.74932486 -3.35282076  0.52649791  3.28755923  1.96764352  2.29217489\n",
            " -0.23655575 -3.08753878  2.77754893  7.45554449 -3.98259249 -2.86347368\n",
            " -2.29569235  1.22158477 -3.33374307 -1.95439597  5.74375749  1.37084238\n",
            " -1.1436635   3.74221964 -1.16666697 -0.52879823  1.58269752 -2.38605109\n",
            " -2.37998168  0.2872466   1.9339794   3.35784958 -4.33438267  0.35226529\n",
            "  2.27912134 -1.05254611 -0.27296813 -3.765561   -0.6978398   0.75682577\n",
            "  0.98124232  2.84253701 -0.73289491 -0.63341378  0.88517922 -0.86218058\n",
            " -0.69465689 -1.89463845  0.04445174 -2.83018517  0.07451983 -0.84768642\n",
            "  3.49534905  0.31209126 -2.01030688 -1.25115212  2.43631909 -3.29981817\n",
            "  2.37348118  0.44040007  0.46468169  1.20854802  0.69823783  3.61815928\n",
            "  2.04700832  0.82377666  0.10988429 -1.96189993  0.24499461  0.62889142\n",
            "  0.12958049 -2.6492081   3.71917889 -0.26780875  0.08781195 -0.52567949\n",
            " -1.04073629  3.78104301 -2.16988588  2.30491752  1.4412433  -2.79135021\n",
            " -0.76598782  3.07330823  1.11973513 -0.69380014 -0.72940232  3.29340781]\n"
          ]
        }
      ]
    },
    {
      "cell_type": "markdown",
      "source": [
        "# Polynomial regression"
      ],
      "metadata": {
        "id": "HQ30O4ulquiF"
      }
    },
    {
      "cell_type": "code",
      "source": [
        "time_split = TimeSeriesSplit(n_splits=3)"
      ],
      "metadata": {
        "id": "pDMYKoiVgZuY"
      },
      "execution_count": null,
      "outputs": []
    },
    {
      "cell_type": "code",
      "source": [
        "# Create a pipeline with PolynomialFeatures\n",
        "pipeline = Pipeline([\n",
        "    ('scaler', MinMaxScaler()),\n",
        "    ('poly_features', PolynomialFeatures(include_bias=False)),\n",
        "    ('linear_reg', LinearRegression())\n",
        "])\n",
        "\n",
        "# # Specify the degrees to be searched\n",
        "param_grid = {\n",
        "    'poly_features__degree': [1,2,3]\n",
        "}\n",
        "\n",
        "# Create the GridSearchCV object\n",
        "grid_search = GridSearchCV(pipeline, param_grid,cv=time_split,scoring='neg_mean_squared_error', return_train_score=True)\n",
        "\n",
        "# Perform the grid search\n",
        "grid_search.fit(X_train, y_train)\n",
        "\n",
        "# Get the best degree from the grid search\n",
        "best_degree = grid_search.best_params_['poly_features__degree']\n",
        "\n",
        "# Plot the data and the polynomial regression curve\n",
        "y_pred = grid_search.predict(X_test)"
      ],
      "metadata": {
        "id": "G1FatKkuqyNH"
      },
      "execution_count": 36,
      "outputs": []
    },
    {
      "cell_type": "code",
      "source": [
        "print(\"Best Degree \" + str(best_degree))\n",
        "print(-grid_search.cv_results_['mean_test_score'])"
      ],
      "metadata": {
        "colab": {
          "base_uri": "https://localhost:8080/"
        },
        "id": "Rp0A6-C4sxoF",
        "outputId": "6a8daa76-dc1e-4c02-de34-6f8e66f34e20"
      },
      "execution_count": 37,
      "outputs": [
        {
          "output_type": "stream",
          "name": "stdout",
          "text": [
            "Best Degree 1\n",
            "[  26.89089717  349.0729369  2670.29209047]\n"
          ]
        }
      ]
    },
    {
      "cell_type": "code",
      "source": [
        "show_graph(y_test,y_pred,'Polynomial')"
      ],
      "metadata": {
        "colab": {
          "base_uri": "https://localhost:8080/",
          "height": 452
        },
        "id": "Wjuc6V8eclni",
        "outputId": "8a6feca9-c313-4418-ad28-0f209b2433a7"
      },
      "execution_count": 39,
      "outputs": [
        {
          "output_type": "display_data",
          "data": {
            "text/plain": [
              "<Figure size 640x480 with 1 Axes>"
            ],
            "image/png": "[encoded data removed]"
          },
          "metadata": {}
        }
      ]
    },
    {
      "cell_type": "code",
      "source": [
        "model_evaluate(y_test,y_pred,'Polynomial regression')"
      ],
      "metadata": {
        "colab": {
          "base_uri": "https://localhost:8080/"
        },
        "id": "waaEyDyMrFQn",
        "outputId": "c43f9ffb-bf3e-4f3b-9e1b-042339c6e7fb"
      },
      "execution_count": 40,
      "outputs": [
        {
          "output_type": "stream",
          "name": "stdout",
          "text": [
            "Polynomial regression - Mean Squared Error: 25.966806879664652\n",
            "Polynomial regression - Mean Absolute Error: 4.2897213374323\n",
            "Polynomial regression - R-squared: 0.8483290126497176\n"
          ]
        }
      ]
    },
    {
      "cell_type": "markdown",
      "source": [
        "# Lasso Regression"
      ],
      "metadata": {
        "id": "BYgIiVKwtCX2"
      }
    },
    {
      "cell_type": "code",
      "source": [
        "# Create a pipeline with PolynomialFeatures and Lasso Regression\n",
        "lasso_pipeline = Pipeline([\n",
        "    ('MinMax', MinMaxScaler()),\n",
        "    ('poly_features', PolynomialFeatures(include_bias=False)),\n",
        "    ('lasso_reg', Lasso(max_iter=2000)) # max_iter=10000\n",
        "])\n",
        "\n",
        "# Specify the degrees to be searched\n",
        "param_grid = {\n",
        "    'poly_features__degree': [1, 2, 3],\n",
        "    'lasso_reg__alpha': np.logspace(-4, 2, 7)  # Adjust the range as needed\n",
        "}\n",
        "\n",
        "# Create the GridSearchCV object\n",
        "lasso_grid_search = GridSearchCV(lasso_pipeline, param_grid, cv=time_split, scoring='neg_mean_squared_error', return_train_score=True)\n",
        "\n",
        "# Perform the grid search\n",
        "lasso_grid_search.fit(X_train, y_train)\n",
        "\n",
        "# Get the best degree and alpha from the grid search\n",
        "best_degree = lasso_grid_search.best_params_['poly_features__degree']\n",
        "best_alpha = lasso_grid_search.best_params_['lasso_reg__alpha']\n",
        "\n",
        "print(f\"Best Degree: {best_degree}\")\n",
        "print(f\"Best Alpha: {best_alpha}\")\n",
        "# Print the negative of mean test scores (as GridSearchCV returns negative values)\n",
        "print(-lasso_grid_search.cv_results_['mean_test_score'])"
      ],
      "metadata": {
        "colab": {
          "base_uri": "https://localhost:8080/"
        },
        "id": "fbaium_8tD1w",
        "outputId": "307d75dc-e3a6-4ca4-db4c-e13a28955fe8"
      },
      "execution_count": 41,
      "outputs": [
        {
          "output_type": "stream",
          "name": "stderr",
          "text": [
            "/usr/local/lib/python3.10/dist-packages/sklearn/linear_model/_coordinate_descent.py:631: ConvergenceWarning: Objective did not converge. You might want to increase the number of iterations, check the scale of the features or consider increasing regularisation. Duality gap: 2.917e+00, tolerance: 1.994e-01\n",
            "  model = cd_fast.enet_coordinate_descent(\n",
            "/usr/local/lib/python3.10/dist-packages/sklearn/linear_model/_coordinate_descent.py:631: ConvergenceWarning: Objective did not converge. You might want to increase the number of iterations, check the scale of the features or consider increasing regularisation. Duality gap: 2.509e+01, tolerance: 4.014e-01\n",
            "  model = cd_fast.enet_coordinate_descent(\n",
            "/usr/local/lib/python3.10/dist-packages/sklearn/linear_model/_coordinate_descent.py:631: ConvergenceWarning: Objective did not converge. You might want to increase the number of iterations, check the scale of the features or consider increasing regularisation. Duality gap: 2.044e+02, tolerance: 1.637e+00\n",
            "  model = cd_fast.enet_coordinate_descent(\n",
            "/usr/local/lib/python3.10/dist-packages/sklearn/linear_model/_coordinate_descent.py:631: ConvergenceWarning: Objective did not converge. You might want to increase the number of iterations, check the scale of the features or consider increasing regularisation. Duality gap: 1.489e+03, tolerance: 6.333e+00\n",
            "  model = cd_fast.enet_coordinate_descent(\n",
            "/usr/local/lib/python3.10/dist-packages/sklearn/linear_model/_coordinate_descent.py:631: ConvergenceWarning: Objective did not converge. You might want to increase the number of iterations, check the scale of the features or consider increasing regularisation. Duality gap: 2.637e+03, tolerance: 1.389e+01\n",
            "  model = cd_fast.enet_coordinate_descent(\n",
            "/usr/local/lib/python3.10/dist-packages/sklearn/linear_model/_coordinate_descent.py:631: ConvergenceWarning: Objective did not converge. You might want to increase the number of iterations, check the scale of the features or consider increasing regularisation. Duality gap: 1.914e+00, tolerance: 1.994e-01\n",
            "  model = cd_fast.enet_coordinate_descent(\n",
            "/usr/local/lib/python3.10/dist-packages/sklearn/linear_model/_coordinate_descent.py:631: ConvergenceWarning: Objective did not converge. You might want to increase the number of iterations, check the scale of the features or consider increasing regularisation. Duality gap: 1.368e+01, tolerance: 4.014e-01\n",
            "  model = cd_fast.enet_coordinate_descent(\n",
            "/usr/local/lib/python3.10/dist-packages/sklearn/linear_model/_coordinate_descent.py:631: ConvergenceWarning: Objective did not converge. You might want to increase the number of iterations, check the scale of the features or consider increasing regularisation. Duality gap: 1.008e+02, tolerance: 1.637e+00\n",
            "  model = cd_fast.enet_coordinate_descent(\n",
            "/usr/local/lib/python3.10/dist-packages/sklearn/linear_model/_coordinate_descent.py:631: ConvergenceWarning: Objective did not converge. You might want to increase the number of iterations, check the scale of the features or consider increasing regularisation. Duality gap: 8.853e+02, tolerance: 6.333e+00\n",
            "  model = cd_fast.enet_coordinate_descent(\n",
            "/usr/local/lib/python3.10/dist-packages/sklearn/linear_model/_coordinate_descent.py:631: ConvergenceWarning: Objective did not converge. You might want to increase the number of iterations, check the scale of the features or consider increasing regularisation. Duality gap: 1.983e+03, tolerance: 1.389e+01\n",
            "  model = cd_fast.enet_coordinate_descent(\n",
            "/usr/local/lib/python3.10/dist-packages/sklearn/linear_model/_coordinate_descent.py:631: ConvergenceWarning: Objective did not converge. You might want to increase the number of iterations, check the scale of the features or consider increasing regularisation. Duality gap: 9.120e+00, tolerance: 1.994e-01\n",
            "  model = cd_fast.enet_coordinate_descent(\n",
            "/usr/local/lib/python3.10/dist-packages/sklearn/linear_model/_coordinate_descent.py:631: ConvergenceWarning: Objective did not converge. You might want to increase the number of iterations, check the scale of the features or consider increasing regularisation. Duality gap: 7.240e+01, tolerance: 4.014e-01\n",
            "  model = cd_fast.enet_coordinate_descent(\n",
            "/usr/local/lib/python3.10/dist-packages/sklearn/linear_model/_coordinate_descent.py:631: ConvergenceWarning: Objective did not converge. You might want to increase the number of iterations, check the scale of the features or consider increasing regularisation. Duality gap: 3.122e+02, tolerance: 1.637e+00\n",
            "  model = cd_fast.enet_coordinate_descent(\n",
            "/usr/local/lib/python3.10/dist-packages/sklearn/linear_model/_coordinate_descent.py:631: ConvergenceWarning: Objective did not converge. You might want to increase the number of iterations, check the scale of the features or consider increasing regularisation. Duality gap: 1.316e+03, tolerance: 6.333e+00\n",
            "  model = cd_fast.enet_coordinate_descent(\n",
            "/usr/local/lib/python3.10/dist-packages/sklearn/linear_model/_coordinate_descent.py:631: ConvergenceWarning: Objective did not converge. You might want to increase the number of iterations, check the scale of the features or consider increasing regularisation. Duality gap: 2.135e+03, tolerance: 1.389e+01\n",
            "  model = cd_fast.enet_coordinate_descent(\n",
            "/usr/local/lib/python3.10/dist-packages/sklearn/linear_model/_coordinate_descent.py:631: ConvergenceWarning: Objective did not converge. You might want to increase the number of iterations, check the scale of the features or consider increasing regularisation. Duality gap: 4.729e+00, tolerance: 1.994e-01\n",
            "  model = cd_fast.enet_coordinate_descent(\n",
            "/usr/local/lib/python3.10/dist-packages/sklearn/linear_model/_coordinate_descent.py:631: ConvergenceWarning: Objective did not converge. You might want to increase the number of iterations, check the scale of the features or consider increasing regularisation. Duality gap: 3.597e+01, tolerance: 4.014e-01\n",
            "  model = cd_fast.enet_coordinate_descent(\n",
            "/usr/local/lib/python3.10/dist-packages/sklearn/linear_model/_coordinate_descent.py:631: ConvergenceWarning: Objective did not converge. You might want to increase the number of iterations, check the scale of the features or consider increasing regularisation. Duality gap: 1.388e+02, tolerance: 1.637e+00\n",
            "  model = cd_fast.enet_coordinate_descent(\n",
            "/usr/local/lib/python3.10/dist-packages/sklearn/linear_model/_coordinate_descent.py:631: ConvergenceWarning: Objective did not converge. You might want to increase the number of iterations, check the scale of the features or consider increasing regularisation. Duality gap: 1.292e+03, tolerance: 6.333e+00\n",
            "  model = cd_fast.enet_coordinate_descent(\n",
            "/usr/local/lib/python3.10/dist-packages/sklearn/linear_model/_coordinate_descent.py:631: ConvergenceWarning: Objective did not converge. You might want to increase the number of iterations, check the scale of the features or consider increasing regularisation. Duality gap: 1.559e+03, tolerance: 1.389e+01\n",
            "  model = cd_fast.enet_coordinate_descent(\n"
          ]
        },
        {
          "output_type": "stream",
          "name": "stdout",
          "text": [
            "Best Degree: 1\n",
            "Best Alpha: 0.01\n",
            "[  26.87835981  258.26395338 1200.43870107   26.78950868  122.99937925\n",
            "  449.04649997   26.64014215   82.67888107  150.25980996   30.05242968\n",
            "   37.08579106   37.61697843  133.61699194  123.90886743  123.90886743\n",
            "  364.72321606  364.72321606  364.72321606  364.72321606  364.72321606\n",
            "  364.72321606]\n"
          ]
        }
      ]
    },
    {
      "cell_type": "code",
      "source": [
        "# Predict using the Lasso model\n",
        "y_pred = lasso_grid_search.predict(X_test)"
      ],
      "metadata": {
        "id": "bF8iPdAbvTq3"
      },
      "execution_count": 42,
      "outputs": []
    },
    {
      "cell_type": "code",
      "source": [
        "show_graph(y_test,y_pred,'Lasso')"
      ],
      "metadata": {
        "colab": {
          "base_uri": "https://localhost:8080/",
          "height": 452
        },
        "id": "UggL-r_AegbH",
        "outputId": "1e590148-bf8c-4c0e-e49b-0fca14739d99"
      },
      "execution_count": 43,
      "outputs": [
        {
          "output_type": "display_data",
          "data": {
            "text/plain": [
              "<Figure size 640x480 with 1 Axes>"
            ],
            "image/png": "[encoded data removed]"
          },
          "metadata": {}
        }
      ]
    },
    {
      "cell_type": "code",
      "source": [
        "model_evaluate(y_test,y_pred,'Lasso regression')"
      ],
      "metadata": {
        "colab": {
          "base_uri": "https://localhost:8080/"
        },
        "id": "cBqZcq8OtRyG",
        "outputId": "79e94b3b-1418-48b3-f9b7-e5701dba4a3a"
      },
      "execution_count": 44,
      "outputs": [
        {
          "output_type": "stream",
          "name": "stdout",
          "text": [
            "Lasso regression - Mean Squared Error: 25.611741148515772\n",
            "Lasso regression - Mean Absolute Error: 4.258010333478514\n",
            "Lasso regression - R-squared: 0.8504029361115882\n"
          ]
        }
      ]
    },
    {
      "cell_type": "code",
      "source": [
        "# Create a pipeline with PolynomialFeatures, MinMaxScaler, and Ridge Regression\n",
        "ridge_pipeline = Pipeline([\n",
        "    ('scaler', MinMaxScaler()),\n",
        "    ('poly_features', PolynomialFeatures(include_bias=False)),\n",
        "    ('ridge_reg', Ridge(max_iter=2000))\n",
        "])\n",
        "\n",
        "# Specify the degrees and alpha to be searched\n",
        "param_grid = {\n",
        "    'poly_features__degree': [1, 2, 3],\n",
        "    'ridge_reg__alpha': np.logspace(-4, 2, 7)  # Adjust the range as needed\n",
        "}\n",
        "\n",
        "# Create the GridSearchCV object\n",
        "ridge_grid_search = GridSearchCV(ridge_pipeline, param_grid, cv=time_split, scoring='neg_mean_squared_error', return_train_score=True)\n",
        "\n",
        "# Perform the grid search\n",
        "ridge_grid_search.fit(X_train, y_train)\n",
        "\n",
        "# Get the best degree and alpha from the grid search\n",
        "best_degree = ridge_grid_search.best_params_['poly_features__degree']\n",
        "best_alpha = ridge_grid_search.best_params_['ridge_reg__alpha']\n",
        "\n",
        "\n",
        "print(f\"Best Degree - {best_degree}\")\n",
        "print(f\"Best Alpha - {best_alpha}\")"
      ],
      "metadata": {
        "colab": {
          "base_uri": "https://localhost:8080/"
        },
        "id": "mDwidxgQNxGZ",
        "outputId": "225ca2a6-0760-4e09-d3e7-83d8c5194053"
      },
      "execution_count": 46,
      "outputs": [
        {
          "output_type": "stream",
          "name": "stdout",
          "text": [
            "Best Degree - 1\n",
            "Best Alpha - 0.0001\n"
          ]
        }
      ]
    },
    {
      "cell_type": "code",
      "source": [
        "\n",
        "# Plot the data and the Ridge regression curve\n",
        "y_pred = ridge_grid_search.predict(X_test)"
      ],
      "metadata": {
        "id": "GNsVkf59N-Ed"
      },
      "execution_count": 47,
      "outputs": []
    },
    {
      "cell_type": "code",
      "source": [
        "show_graph(y_test,y_pred,'Ridge')"
      ],
      "metadata": {
        "colab": {
          "base_uri": "https://localhost:8080/",
          "height": 452
        },
        "id": "q66F1rarPLmG",
        "outputId": "7b8a63f8-7c90-4a68-f085-5b0a527aff38"
      },
      "execution_count": 48,
      "outputs": [
        {
          "output_type": "display_data",
          "data": {
            "text/plain": [
              "<Figure size 640x480 with 1 Axes>"
            ],
            "image/png": "[encoded data removed]"
          },
          "metadata": {}
        }
      ]
    },
    {
      "cell_type": "code",
      "source": [
        "model_evaluate(y_test,y_pred,'Ridge regression')"
      ],
      "metadata": {
        "colab": {
          "base_uri": "https://localhost:8080/"
        },
        "id": "hRtoqVZ_il4P",
        "outputId": "4263fcf5-926e-49b5-aa88-97a8e5979016"
      },
      "execution_count": 49,
      "outputs": [
        {
          "output_type": "stream",
          "name": "stdout",
          "text": [
            "Ridge regression - Mean Squared Error: 25.96706156209756\n",
            "Ridge regression - Mean Absolute Error: 4.2897559348269185\n",
            "Ridge regression - R-squared: 0.8483275250607261\n"
          ]
        }
      ]
    },
    {
      "cell_type": "markdown",
      "source": [
        "# Elastic Net"
      ],
      "metadata": {
        "id": "aNyoFMbYPxtD"
      }
    },
    {
      "cell_type": "code",
      "source": [
        "# Create a pipeline with PolynomialFeatures, MinMaxScaler, and Elastic Net Regression\n",
        "elastic_net_pipeline = Pipeline([\n",
        "    ('scaler', MinMaxScaler()),\n",
        "    ('poly_features', PolynomialFeatures(include_bias=False)),\n",
        "    ('elastic_net_reg', ElasticNet())\n",
        "])\n",
        "\n",
        "# Specify the degrees and alpha to be searched\n",
        "param_grid = {\n",
        "    'poly_features__degree': [1, 2, 3],\n",
        "    'elastic_net_reg__alpha': np.logspace(-4, 2, 7),  # Adjust the range as needed\n",
        "    'elastic_net_reg__l1_ratio': [0.1, 0.5, 0.9]  # Adjust the ratios as needed\n",
        "}\n",
        "\n",
        "# Create the GridSearchCV object\n",
        "elastic_net_grid_search = GridSearchCV(elastic_net_pipeline, param_grid, cv=time_split, scoring='neg_mean_squared_error', return_train_score=True)\n",
        "\n",
        "# Perform the grid search\n",
        "elastic_net_grid_search.fit(X_train, y_train)\n",
        "\n",
        "# Get the best degree, alpha, and l1_ratio from the grid search\n",
        "best_degree = elastic_net_grid_search.best_params_['poly_features__degree']\n",
        "best_alpha = elastic_net_grid_search.best_params_['elastic_net_reg__alpha']\n",
        "best_l1_ratio = elastic_net_grid_search.best_params_['elastic_net_reg__l1_ratio']\n",
        "\n",
        "print(f\"Best Degree - {best_degree}\")\n",
        "print(f\"Best Alpha - {best_alpha}\")\n",
        "print(f\"Best L1 Ratio - {best_l1_ratio}\")"
      ],
      "metadata": {
        "colab": {
          "base_uri": "https://localhost:8080/"
        },
        "id": "UDIteardPM_z",
        "outputId": "a3988c10-74a3-4982-9563-7d43d82991e2"
      },
      "execution_count": 96,
      "outputs": [
        {
          "output_type": "stream",
          "name": "stderr",
          "text": [
            "/usr/local/lib/python3.10/dist-packages/sklearn/linear_model/_coordinate_descent.py:631: ConvergenceWarning: Objective did not converge. You might want to increase the number of iterations, check the scale of the features or consider increasing regularisation. Duality gap: 5.784e+00, tolerance: 1.994e-01\n",
            "  model = cd_fast.enet_coordinate_descent(\n",
            "/usr/local/lib/python3.10/dist-packages/sklearn/linear_model/_coordinate_descent.py:631: ConvergenceWarning: Objective did not converge. You might want to increase the number of iterations, check the scale of the features or consider increasing regularisation. Duality gap: 1.830e+03, tolerance: 6.333e+00\n",
            "  model = cd_fast.enet_coordinate_descent(\n",
            "/usr/local/lib/python3.10/dist-packages/sklearn/linear_model/_coordinate_descent.py:631: ConvergenceWarning: Objective did not converge. You might want to increase the number of iterations, check the scale of the features or consider increasing regularisation. Duality gap: 3.912e+03, tolerance: 1.389e+01\n",
            "  model = cd_fast.enet_coordinate_descent(\n",
            "/usr/local/lib/python3.10/dist-packages/sklearn/linear_model/_coordinate_descent.py:631: ConvergenceWarning: Objective did not converge. You might want to increase the number of iterations, check the scale of the features or consider increasing regularisation. Duality gap: 2.346e+00, tolerance: 1.994e-01\n",
            "  model = cd_fast.enet_coordinate_descent(\n",
            "/usr/local/lib/python3.10/dist-packages/sklearn/linear_model/_coordinate_descent.py:631: ConvergenceWarning: Objective did not converge. You might want to increase the number of iterations, check the scale of the features or consider increasing regularisation. Duality gap: 2.071e+01, tolerance: 4.014e-01\n",
            "  model = cd_fast.enet_coordinate_descent(\n",
            "/usr/local/lib/python3.10/dist-packages/sklearn/linear_model/_coordinate_descent.py:631: ConvergenceWarning: Objective did not converge. You might want to increase the number of iterations, check the scale of the features or consider increasing regularisation. Duality gap: 2.777e+02, tolerance: 1.637e+00\n",
            "  model = cd_fast.enet_coordinate_descent(\n",
            "/usr/local/lib/python3.10/dist-packages/sklearn/linear_model/_coordinate_descent.py:631: ConvergenceWarning: Objective did not converge. You might want to increase the number of iterations, check the scale of the features or consider increasing regularisation. Duality gap: 1.859e+03, tolerance: 6.333e+00\n",
            "  model = cd_fast.enet_coordinate_descent(\n",
            "/usr/local/lib/python3.10/dist-packages/sklearn/linear_model/_coordinate_descent.py:631: ConvergenceWarning: Objective did not converge. You might want to increase the number of iterations, check the scale of the features or consider increasing regularisation. Duality gap: 2.985e+03, tolerance: 1.389e+01\n",
            "  model = cd_fast.enet_coordinate_descent(\n",
            "/usr/local/lib/python3.10/dist-packages/sklearn/linear_model/_coordinate_descent.py:631: ConvergenceWarning: Objective did not converge. You might want to increase the number of iterations, check the scale of the features or consider increasing regularisation. Duality gap: 1.323e+00, tolerance: 1.994e-01\n",
            "  model = cd_fast.enet_coordinate_descent(\n",
            "/usr/local/lib/python3.10/dist-packages/sklearn/linear_model/_coordinate_descent.py:631: ConvergenceWarning: Objective did not converge. You might want to increase the number of iterations, check the scale of the features or consider increasing regularisation. Duality gap: 6.745e+00, tolerance: 4.014e-01\n",
            "  model = cd_fast.enet_coordinate_descent(\n",
            "/usr/local/lib/python3.10/dist-packages/sklearn/linear_model/_coordinate_descent.py:631: ConvergenceWarning: Objective did not converge. You might want to increase the number of iterations, check the scale of the features or consider increasing regularisation. Duality gap: 6.680e+01, tolerance: 1.637e+00\n",
            "  model = cd_fast.enet_coordinate_descent(\n",
            "/usr/local/lib/python3.10/dist-packages/sklearn/linear_model/_coordinate_descent.py:631: ConvergenceWarning: Objective did not converge. You might want to increase the number of iterations, check the scale of the features or consider increasing regularisation. Duality gap: 8.300e+02, tolerance: 6.333e+00\n",
            "  model = cd_fast.enet_coordinate_descent(\n",
            "/usr/local/lib/python3.10/dist-packages/sklearn/linear_model/_coordinate_descent.py:631: ConvergenceWarning: Objective did not converge. You might want to increase the number of iterations, check the scale of the features or consider increasing regularisation. Duality gap: 1.946e+03, tolerance: 1.389e+01\n",
            "  model = cd_fast.enet_coordinate_descent(\n",
            "/usr/local/lib/python3.10/dist-packages/sklearn/linear_model/_coordinate_descent.py:631: ConvergenceWarning: Objective did not converge. You might want to increase the number of iterations, check the scale of the features or consider increasing regularisation. Duality gap: 5.534e+02, tolerance: 6.333e+00\n",
            "  model = cd_fast.enet_coordinate_descent(\n",
            "/usr/local/lib/python3.10/dist-packages/sklearn/linear_model/_coordinate_descent.py:631: ConvergenceWarning: Objective did not converge. You might want to increase the number of iterations, check the scale of the features or consider increasing regularisation. Duality gap: 2.169e+03, tolerance: 1.389e+01\n",
            "  model = cd_fast.enet_coordinate_descent(\n",
            "/usr/local/lib/python3.10/dist-packages/sklearn/linear_model/_coordinate_descent.py:631: ConvergenceWarning: Objective did not converge. You might want to increase the number of iterations, check the scale of the features or consider increasing regularisation. Duality gap: 3.481e+00, tolerance: 1.994e-01\n",
            "  model = cd_fast.enet_coordinate_descent(\n",
            "/usr/local/lib/python3.10/dist-packages/sklearn/linear_model/_coordinate_descent.py:631: ConvergenceWarning: Objective did not converge. You might want to increase the number of iterations, check the scale of the features or consider increasing regularisation. Duality gap: 2.885e+01, tolerance: 4.014e-01\n",
            "  model = cd_fast.enet_coordinate_descent(\n",
            "/usr/local/lib/python3.10/dist-packages/sklearn/linear_model/_coordinate_descent.py:631: ConvergenceWarning: Objective did not converge. You might want to increase the number of iterations, check the scale of the features or consider increasing regularisation. Duality gap: 2.863e+02, tolerance: 1.637e+00\n",
            "  model = cd_fast.enet_coordinate_descent(\n",
            "/usr/local/lib/python3.10/dist-packages/sklearn/linear_model/_coordinate_descent.py:631: ConvergenceWarning: Objective did not converge. You might want to increase the number of iterations, check the scale of the features or consider increasing regularisation. Duality gap: 1.823e+03, tolerance: 6.333e+00\n",
            "  model = cd_fast.enet_coordinate_descent(\n",
            "/usr/local/lib/python3.10/dist-packages/sklearn/linear_model/_coordinate_descent.py:631: ConvergenceWarning: Objective did not converge. You might want to increase the number of iterations, check the scale of the features or consider increasing regularisation. Duality gap: 2.937e+03, tolerance: 1.389e+01\n",
            "  model = cd_fast.enet_coordinate_descent(\n",
            "/usr/local/lib/python3.10/dist-packages/sklearn/linear_model/_coordinate_descent.py:631: ConvergenceWarning: Objective did not converge. You might want to increase the number of iterations, check the scale of the features or consider increasing regularisation. Duality gap: 2.412e+00, tolerance: 1.994e-01\n",
            "  model = cd_fast.enet_coordinate_descent(\n",
            "/usr/local/lib/python3.10/dist-packages/sklearn/linear_model/_coordinate_descent.py:631: ConvergenceWarning: Objective did not converge. You might want to increase the number of iterations, check the scale of the features or consider increasing regularisation. Duality gap: 1.410e+01, tolerance: 4.014e-01\n",
            "  model = cd_fast.enet_coordinate_descent(\n",
            "/usr/local/lib/python3.10/dist-packages/sklearn/linear_model/_coordinate_descent.py:631: ConvergenceWarning: Objective did not converge. You might want to increase the number of iterations, check the scale of the features or consider increasing regularisation. Duality gap: 1.114e+02, tolerance: 1.637e+00\n",
            "  model = cd_fast.enet_coordinate_descent(\n",
            "/usr/local/lib/python3.10/dist-packages/sklearn/linear_model/_coordinate_descent.py:631: ConvergenceWarning: Objective did not converge. You might want to increase the number of iterations, check the scale of the features or consider increasing regularisation. Duality gap: 1.006e+03, tolerance: 6.333e+00\n",
            "  model = cd_fast.enet_coordinate_descent(\n",
            "/usr/local/lib/python3.10/dist-packages/sklearn/linear_model/_coordinate_descent.py:631: ConvergenceWarning: Objective did not converge. You might want to increase the number of iterations, check the scale of the features or consider increasing regularisation. Duality gap: 2.139e+03, tolerance: 1.389e+01\n",
            "  model = cd_fast.enet_coordinate_descent(\n",
            "/usr/local/lib/python3.10/dist-packages/sklearn/linear_model/_coordinate_descent.py:631: ConvergenceWarning: Objective did not converge. You might want to increase the number of iterations, check the scale of the features or consider increasing regularisation. Duality gap: 2.493e+02, tolerance: 6.333e+00\n",
            "  model = cd_fast.enet_coordinate_descent(\n",
            "/usr/local/lib/python3.10/dist-packages/sklearn/linear_model/_coordinate_descent.py:631: ConvergenceWarning: Objective did not converge. You might want to increase the number of iterations, check the scale of the features or consider increasing regularisation. Duality gap: 1.119e+03, tolerance: 1.389e+01\n",
            "  model = cd_fast.enet_coordinate_descent(\n",
            "/usr/local/lib/python3.10/dist-packages/sklearn/linear_model/_coordinate_descent.py:631: ConvergenceWarning: Objective did not converge. You might want to increase the number of iterations, check the scale of the features or consider increasing regularisation. Duality gap: 3.796e+00, tolerance: 1.994e-01\n",
            "  model = cd_fast.enet_coordinate_descent(\n",
            "/usr/local/lib/python3.10/dist-packages/sklearn/linear_model/_coordinate_descent.py:631: ConvergenceWarning: Objective did not converge. You might want to increase the number of iterations, check the scale of the features or consider increasing regularisation. Duality gap: 3.371e+01, tolerance: 4.014e-01\n",
            "  model = cd_fast.enet_coordinate_descent(\n",
            "/usr/local/lib/python3.10/dist-packages/sklearn/linear_model/_coordinate_descent.py:631: ConvergenceWarning: Objective did not converge. You might want to increase the number of iterations, check the scale of the features or consider increasing regularisation. Duality gap: 2.805e+02, tolerance: 1.637e+00\n",
            "  model = cd_fast.enet_coordinate_descent(\n",
            "/usr/local/lib/python3.10/dist-packages/sklearn/linear_model/_coordinate_descent.py:631: ConvergenceWarning: Objective did not converge. You might want to increase the number of iterations, check the scale of the features or consider increasing regularisation. Duality gap: 1.749e+03, tolerance: 6.333e+00\n",
            "  model = cd_fast.enet_coordinate_descent(\n",
            "/usr/local/lib/python3.10/dist-packages/sklearn/linear_model/_coordinate_descent.py:631: ConvergenceWarning: Objective did not converge. You might want to increase the number of iterations, check the scale of the features or consider increasing regularisation. Duality gap: 2.865e+03, tolerance: 1.389e+01\n",
            "  model = cd_fast.enet_coordinate_descent(\n",
            "/usr/local/lib/python3.10/dist-packages/sklearn/linear_model/_coordinate_descent.py:631: ConvergenceWarning: Objective did not converge. You might want to increase the number of iterations, check the scale of the features or consider increasing regularisation. Duality gap: 2.735e+00, tolerance: 1.994e-01\n",
            "  model = cd_fast.enet_coordinate_descent(\n",
            "/usr/local/lib/python3.10/dist-packages/sklearn/linear_model/_coordinate_descent.py:631: ConvergenceWarning: Objective did not converge. You might want to increase the number of iterations, check the scale of the features or consider increasing regularisation. Duality gap: 1.815e+01, tolerance: 4.014e-01\n",
            "  model = cd_fast.enet_coordinate_descent(\n",
            "/usr/local/lib/python3.10/dist-packages/sklearn/linear_model/_coordinate_descent.py:631: ConvergenceWarning: Objective did not converge. You might want to increase the number of iterations, check the scale of the features or consider increasing regularisation. Duality gap: 1.285e+02, tolerance: 1.637e+00\n",
            "  model = cd_fast.enet_coordinate_descent(\n",
            "/usr/local/lib/python3.10/dist-packages/sklearn/linear_model/_coordinate_descent.py:631: ConvergenceWarning: Objective did not converge. You might want to increase the number of iterations, check the scale of the features or consider increasing regularisation. Duality gap: 1.066e+03, tolerance: 6.333e+00\n",
            "  model = cd_fast.enet_coordinate_descent(\n",
            "/usr/local/lib/python3.10/dist-packages/sklearn/linear_model/_coordinate_descent.py:631: ConvergenceWarning: Objective did not converge. You might want to increase the number of iterations, check the scale of the features or consider increasing regularisation. Duality gap: 2.186e+03, tolerance: 1.389e+01\n",
            "  model = cd_fast.enet_coordinate_descent(\n",
            "/usr/local/lib/python3.10/dist-packages/sklearn/linear_model/_coordinate_descent.py:631: ConvergenceWarning: Objective did not converge. You might want to increase the number of iterations, check the scale of the features or consider increasing regularisation. Duality gap: 6.079e+02, tolerance: 1.389e+01\n",
            "  model = cd_fast.enet_coordinate_descent(\n",
            "/usr/local/lib/python3.10/dist-packages/sklearn/linear_model/_coordinate_descent.py:631: ConvergenceWarning: Objective did not converge. You might want to increase the number of iterations, check the scale of the features or consider increasing regularisation. Duality gap: 9.867e+00, tolerance: 1.994e-01\n",
            "  model = cd_fast.enet_coordinate_descent(\n",
            "/usr/local/lib/python3.10/dist-packages/sklearn/linear_model/_coordinate_descent.py:631: ConvergenceWarning: Objective did not converge. You might want to increase the number of iterations, check the scale of the features or consider increasing regularisation. Duality gap: 1.014e+02, tolerance: 4.014e-01\n",
            "  model = cd_fast.enet_coordinate_descent(\n",
            "/usr/local/lib/python3.10/dist-packages/sklearn/linear_model/_coordinate_descent.py:631: ConvergenceWarning: Objective did not converge. You might want to increase the number of iterations, check the scale of the features or consider increasing regularisation. Duality gap: 6.906e+02, tolerance: 1.637e+00\n",
            "  model = cd_fast.enet_coordinate_descent(\n",
            "/usr/local/lib/python3.10/dist-packages/sklearn/linear_model/_coordinate_descent.py:631: ConvergenceWarning: Objective did not converge. You might want to increase the number of iterations, check the scale of the features or consider increasing regularisation. Duality gap: 2.255e+03, tolerance: 6.333e+00\n",
            "  model = cd_fast.enet_coordinate_descent(\n",
            "/usr/local/lib/python3.10/dist-packages/sklearn/linear_model/_coordinate_descent.py:631: ConvergenceWarning: Objective did not converge. You might want to increase the number of iterations, check the scale of the features or consider increasing regularisation. Duality gap: 3.516e+03, tolerance: 1.389e+01\n",
            "  model = cd_fast.enet_coordinate_descent(\n",
            "/usr/local/lib/python3.10/dist-packages/sklearn/linear_model/_coordinate_descent.py:631: ConvergenceWarning: Objective did not converge. You might want to increase the number of iterations, check the scale of the features or consider increasing regularisation. Duality gap: 5.775e+00, tolerance: 1.994e-01\n",
            "  model = cd_fast.enet_coordinate_descent(\n",
            "/usr/local/lib/python3.10/dist-packages/sklearn/linear_model/_coordinate_descent.py:631: ConvergenceWarning: Objective did not converge. You might want to increase the number of iterations, check the scale of the features or consider increasing regularisation. Duality gap: 3.455e+01, tolerance: 4.014e-01\n",
            "  model = cd_fast.enet_coordinate_descent(\n",
            "/usr/local/lib/python3.10/dist-packages/sklearn/linear_model/_coordinate_descent.py:631: ConvergenceWarning: Objective did not converge. You might want to increase the number of iterations, check the scale of the features or consider increasing regularisation. Duality gap: 2.762e+02, tolerance: 1.637e+00\n",
            "  model = cd_fast.enet_coordinate_descent(\n",
            "/usr/local/lib/python3.10/dist-packages/sklearn/linear_model/_coordinate_descent.py:631: ConvergenceWarning: Objective did not converge. You might want to increase the number of iterations, check the scale of the features or consider increasing regularisation. Duality gap: 1.646e+03, tolerance: 6.333e+00\n",
            "  model = cd_fast.enet_coordinate_descent(\n",
            "/usr/local/lib/python3.10/dist-packages/sklearn/linear_model/_coordinate_descent.py:631: ConvergenceWarning: Objective did not converge. You might want to increase the number of iterations, check the scale of the features or consider increasing regularisation. Duality gap: 2.728e+03, tolerance: 1.389e+01\n",
            "  model = cd_fast.enet_coordinate_descent(\n",
            "/usr/local/lib/python3.10/dist-packages/sklearn/linear_model/_coordinate_descent.py:631: ConvergenceWarning: Objective did not converge. You might want to increase the number of iterations, check the scale of the features or consider increasing regularisation. Duality gap: 1.253e+01, tolerance: 1.994e-01\n",
            "  model = cd_fast.enet_coordinate_descent(\n",
            "/usr/local/lib/python3.10/dist-packages/sklearn/linear_model/_coordinate_descent.py:631: ConvergenceWarning: Objective did not converge. You might want to increase the number of iterations, check the scale of the features or consider increasing regularisation. Duality gap: 1.125e+02, tolerance: 4.014e-01\n",
            "  model = cd_fast.enet_coordinate_descent(\n",
            "/usr/local/lib/python3.10/dist-packages/sklearn/linear_model/_coordinate_descent.py:631: ConvergenceWarning: Objective did not converge. You might want to increase the number of iterations, check the scale of the features or consider increasing regularisation. Duality gap: 6.871e+02, tolerance: 1.637e+00\n",
            "  model = cd_fast.enet_coordinate_descent(\n",
            "/usr/local/lib/python3.10/dist-packages/sklearn/linear_model/_coordinate_descent.py:631: ConvergenceWarning: Objective did not converge. You might want to increase the number of iterations, check the scale of the features or consider increasing regularisation. Duality gap: 2.085e+03, tolerance: 6.333e+00\n",
            "  model = cd_fast.enet_coordinate_descent(\n",
            "/usr/local/lib/python3.10/dist-packages/sklearn/linear_model/_coordinate_descent.py:631: ConvergenceWarning: Objective did not converge. You might want to increase the number of iterations, check the scale of the features or consider increasing regularisation. Duality gap: 3.212e+03, tolerance: 1.389e+01\n",
            "  model = cd_fast.enet_coordinate_descent(\n",
            "/usr/local/lib/python3.10/dist-packages/sklearn/linear_model/_coordinate_descent.py:631: ConvergenceWarning: Objective did not converge. You might want to increase the number of iterations, check the scale of the features or consider increasing regularisation. Duality gap: 7.886e+00, tolerance: 1.994e-01\n",
            "  model = cd_fast.enet_coordinate_descent(\n",
            "/usr/local/lib/python3.10/dist-packages/sklearn/linear_model/_coordinate_descent.py:631: ConvergenceWarning: Objective did not converge. You might want to increase the number of iterations, check the scale of the features or consider increasing regularisation. Duality gap: 6.227e+01, tolerance: 4.014e-01\n",
            "  model = cd_fast.enet_coordinate_descent(\n",
            "/usr/local/lib/python3.10/dist-packages/sklearn/linear_model/_coordinate_descent.py:631: ConvergenceWarning: Objective did not converge. You might want to increase the number of iterations, check the scale of the features or consider increasing regularisation. Duality gap: 3.206e+02, tolerance: 1.637e+00\n",
            "  model = cd_fast.enet_coordinate_descent(\n",
            "/usr/local/lib/python3.10/dist-packages/sklearn/linear_model/_coordinate_descent.py:631: ConvergenceWarning: Objective did not converge. You might want to increase the number of iterations, check the scale of the features or consider increasing regularisation. Duality gap: 1.710e+03, tolerance: 6.333e+00\n",
            "  model = cd_fast.enet_coordinate_descent(\n",
            "/usr/local/lib/python3.10/dist-packages/sklearn/linear_model/_coordinate_descent.py:631: ConvergenceWarning: Objective did not converge. You might want to increase the number of iterations, check the scale of the features or consider increasing regularisation. Duality gap: 2.394e+03, tolerance: 1.389e+01\n",
            "  model = cd_fast.enet_coordinate_descent(\n",
            "/usr/local/lib/python3.10/dist-packages/sklearn/linear_model/_coordinate_descent.py:631: ConvergenceWarning: Objective did not converge. You might want to increase the number of iterations, check the scale of the features or consider increasing regularisation. Duality gap: 1.488e+01, tolerance: 1.994e-01\n",
            "  model = cd_fast.enet_coordinate_descent(\n",
            "/usr/local/lib/python3.10/dist-packages/sklearn/linear_model/_coordinate_descent.py:631: ConvergenceWarning: Objective did not converge. You might want to increase the number of iterations, check the scale of the features or consider increasing regularisation. Duality gap: 1.208e+02, tolerance: 4.014e-01\n",
            "  model = cd_fast.enet_coordinate_descent(\n",
            "/usr/local/lib/python3.10/dist-packages/sklearn/linear_model/_coordinate_descent.py:631: ConvergenceWarning: Objective did not converge. You might want to increase the number of iterations, check the scale of the features or consider increasing regularisation. Duality gap: 6.196e+02, tolerance: 1.637e+00\n",
            "  model = cd_fast.enet_coordinate_descent(\n",
            "/usr/local/lib/python3.10/dist-packages/sklearn/linear_model/_coordinate_descent.py:631: ConvergenceWarning: Objective did not converge. You might want to increase the number of iterations, check the scale of the features or consider increasing regularisation. Duality gap: 1.883e+03, tolerance: 6.333e+00\n",
            "  model = cd_fast.enet_coordinate_descent(\n",
            "/usr/local/lib/python3.10/dist-packages/sklearn/linear_model/_coordinate_descent.py:631: ConvergenceWarning: Objective did not converge. You might want to increase the number of iterations, check the scale of the features or consider increasing regularisation. Duality gap: 2.841e+03, tolerance: 1.389e+01\n",
            "  model = cd_fast.enet_coordinate_descent(\n",
            "/usr/local/lib/python3.10/dist-packages/sklearn/linear_model/_coordinate_descent.py:631: ConvergenceWarning: Objective did not converge. You might want to increase the number of iterations, check the scale of the features or consider increasing regularisation. Duality gap: 9.317e+00, tolerance: 1.994e-01\n",
            "  model = cd_fast.enet_coordinate_descent(\n",
            "/usr/local/lib/python3.10/dist-packages/sklearn/linear_model/_coordinate_descent.py:631: ConvergenceWarning: Objective did not converge. You might want to increase the number of iterations, check the scale of the features or consider increasing regularisation. Duality gap: 4.180e+01, tolerance: 4.014e-01\n",
            "  model = cd_fast.enet_coordinate_descent(\n",
            "/usr/local/lib/python3.10/dist-packages/sklearn/linear_model/_coordinate_descent.py:631: ConvergenceWarning: Objective did not converge. You might want to increase the number of iterations, check the scale of the features or consider increasing regularisation. Duality gap: 2.488e+02, tolerance: 1.637e+00\n",
            "  model = cd_fast.enet_coordinate_descent(\n",
            "/usr/local/lib/python3.10/dist-packages/sklearn/linear_model/_coordinate_descent.py:631: ConvergenceWarning: Objective did not converge. You might want to increase the number of iterations, check the scale of the features or consider increasing regularisation. Duality gap: 1.523e+03, tolerance: 6.333e+00\n",
            "  model = cd_fast.enet_coordinate_descent(\n",
            "/usr/local/lib/python3.10/dist-packages/sklearn/linear_model/_coordinate_descent.py:631: ConvergenceWarning: Objective did not converge. You might want to increase the number of iterations, check the scale of the features or consider increasing regularisation. Duality gap: 1.894e+03, tolerance: 1.389e+01\n",
            "  model = cd_fast.enet_coordinate_descent(\n",
            "/usr/local/lib/python3.10/dist-packages/sklearn/linear_model/_coordinate_descent.py:631: ConvergenceWarning: Objective did not converge. You might want to increase the number of iterations, check the scale of the features or consider increasing regularisation. Duality gap: 4.362e+01, tolerance: 1.994e-01\n",
            "  model = cd_fast.enet_coordinate_descent(\n",
            "/usr/local/lib/python3.10/dist-packages/sklearn/linear_model/_coordinate_descent.py:631: ConvergenceWarning: Objective did not converge. You might want to increase the number of iterations, check the scale of the features or consider increasing regularisation. Duality gap: 2.644e+02, tolerance: 4.014e-01\n",
            "  model = cd_fast.enet_coordinate_descent(\n",
            "/usr/local/lib/python3.10/dist-packages/sklearn/linear_model/_coordinate_descent.py:631: ConvergenceWarning: Objective did not converge. You might want to increase the number of iterations, check the scale of the features or consider increasing regularisation. Duality gap: 1.140e+03, tolerance: 1.637e+00\n",
            "  model = cd_fast.enet_coordinate_descent(\n",
            "/usr/local/lib/python3.10/dist-packages/sklearn/linear_model/_coordinate_descent.py:631: ConvergenceWarning: Objective did not converge. You might want to increase the number of iterations, check the scale of the features or consider increasing regularisation. Duality gap: 2.096e+03, tolerance: 6.333e+00\n",
            "  model = cd_fast.enet_coordinate_descent(\n",
            "/usr/local/lib/python3.10/dist-packages/sklearn/linear_model/_coordinate_descent.py:631: ConvergenceWarning: Objective did not converge. You might want to increase the number of iterations, check the scale of the features or consider increasing regularisation. Duality gap: 3.918e+03, tolerance: 1.389e+01\n",
            "  model = cd_fast.enet_coordinate_descent(\n",
            "/usr/local/lib/python3.10/dist-packages/sklearn/linear_model/_coordinate_descent.py:631: ConvergenceWarning: Objective did not converge. You might want to increase the number of iterations, check the scale of the features or consider increasing regularisation. Duality gap: 2.296e+01, tolerance: 1.994e-01\n",
            "  model = cd_fast.enet_coordinate_descent(\n",
            "/usr/local/lib/python3.10/dist-packages/sklearn/linear_model/_coordinate_descent.py:631: ConvergenceWarning: Objective did not converge. You might want to increase the number of iterations, check the scale of the features or consider increasing regularisation. Duality gap: 1.205e+02, tolerance: 4.014e-01\n",
            "  model = cd_fast.enet_coordinate_descent(\n",
            "/usr/local/lib/python3.10/dist-packages/sklearn/linear_model/_coordinate_descent.py:631: ConvergenceWarning: Objective did not converge. You might want to increase the number of iterations, check the scale of the features or consider increasing regularisation. Duality gap: 6.294e+02, tolerance: 1.637e+00\n",
            "  model = cd_fast.enet_coordinate_descent(\n",
            "/usr/local/lib/python3.10/dist-packages/sklearn/linear_model/_coordinate_descent.py:631: ConvergenceWarning: Objective did not converge. You might want to increase the number of iterations, check the scale of the features or consider increasing regularisation. Duality gap: 2.224e+03, tolerance: 6.333e+00\n",
            "  model = cd_fast.enet_coordinate_descent(\n",
            "/usr/local/lib/python3.10/dist-packages/sklearn/linear_model/_coordinate_descent.py:631: ConvergenceWarning: Objective did not converge. You might want to increase the number of iterations, check the scale of the features or consider increasing regularisation. Duality gap: 2.811e+03, tolerance: 1.389e+01\n",
            "  model = cd_fast.enet_coordinate_descent(\n",
            "/usr/local/lib/python3.10/dist-packages/sklearn/linear_model/_coordinate_descent.py:631: ConvergenceWarning: Objective did not converge. You might want to increase the number of iterations, check the scale of the features or consider increasing regularisation. Duality gap: 2.294e+01, tolerance: 1.994e-01\n",
            "  model = cd_fast.enet_coordinate_descent(\n",
            "/usr/local/lib/python3.10/dist-packages/sklearn/linear_model/_coordinate_descent.py:631: ConvergenceWarning: Objective did not converge. You might want to increase the number of iterations, check the scale of the features or consider increasing regularisation. Duality gap: 1.288e+02, tolerance: 4.014e-01\n",
            "  model = cd_fast.enet_coordinate_descent(\n",
            "/usr/local/lib/python3.10/dist-packages/sklearn/linear_model/_coordinate_descent.py:631: ConvergenceWarning: Objective did not converge. You might want to increase the number of iterations, check the scale of the features or consider increasing regularisation. Duality gap: 3.217e+02, tolerance: 1.637e+00\n",
            "  model = cd_fast.enet_coordinate_descent(\n",
            "/usr/local/lib/python3.10/dist-packages/sklearn/linear_model/_coordinate_descent.py:631: ConvergenceWarning: Objective did not converge. You might want to increase the number of iterations, check the scale of the features or consider increasing regularisation. Duality gap: 1.383e+02, tolerance: 6.333e+00\n",
            "  model = cd_fast.enet_coordinate_descent(\n",
            "/usr/local/lib/python3.10/dist-packages/sklearn/linear_model/_coordinate_descent.py:631: ConvergenceWarning: Objective did not converge. You might want to increase the number of iterations, check the scale of the features or consider increasing regularisation. Duality gap: 1.343e+03, tolerance: 1.389e+01\n",
            "  model = cd_fast.enet_coordinate_descent(\n",
            "/usr/local/lib/python3.10/dist-packages/sklearn/linear_model/_coordinate_descent.py:631: ConvergenceWarning: Objective did not converge. You might want to increase the number of iterations, check the scale of the features or consider increasing regularisation. Duality gap: 1.801e+01, tolerance: 1.994e-01\n",
            "  model = cd_fast.enet_coordinate_descent(\n",
            "/usr/local/lib/python3.10/dist-packages/sklearn/linear_model/_coordinate_descent.py:631: ConvergenceWarning: Objective did not converge. You might want to increase the number of iterations, check the scale of the features or consider increasing regularisation. Duality gap: 5.117e+01, tolerance: 4.014e-01\n",
            "  model = cd_fast.enet_coordinate_descent(\n",
            "/usr/local/lib/python3.10/dist-packages/sklearn/linear_model/_coordinate_descent.py:631: ConvergenceWarning: Objective did not converge. You might want to increase the number of iterations, check the scale of the features or consider increasing regularisation. Duality gap: 1.770e+02, tolerance: 1.637e+00\n",
            "  model = cd_fast.enet_coordinate_descent(\n",
            "/usr/local/lib/python3.10/dist-packages/sklearn/linear_model/_coordinate_descent.py:631: ConvergenceWarning: Objective did not converge. You might want to increase the number of iterations, check the scale of the features or consider increasing regularisation. Duality gap: 4.063e+02, tolerance: 6.333e+00\n",
            "  model = cd_fast.enet_coordinate_descent(\n",
            "/usr/local/lib/python3.10/dist-packages/sklearn/linear_model/_coordinate_descent.py:631: ConvergenceWarning: Objective did not converge. You might want to increase the number of iterations, check the scale of the features or consider increasing regularisation. Duality gap: 5.254e+02, tolerance: 1.389e+01\n",
            "  model = cd_fast.enet_coordinate_descent(\n",
            "/usr/local/lib/python3.10/dist-packages/sklearn/linear_model/_coordinate_descent.py:631: ConvergenceWarning: Objective did not converge. You might want to increase the number of iterations, check the scale of the features or consider increasing regularisation. Duality gap: 2.531e+00, tolerance: 1.994e-01\n",
            "  model = cd_fast.enet_coordinate_descent(\n",
            "/usr/local/lib/python3.10/dist-packages/sklearn/linear_model/_coordinate_descent.py:631: ConvergenceWarning: Objective did not converge. You might want to increase the number of iterations, check the scale of the features or consider increasing regularisation. Duality gap: 1.189e+01, tolerance: 4.014e-01\n",
            "  model = cd_fast.enet_coordinate_descent(\n",
            "/usr/local/lib/python3.10/dist-packages/sklearn/linear_model/_coordinate_descent.py:631: ConvergenceWarning: Objective did not converge. You might want to increase the number of iterations, check the scale of the features or consider increasing regularisation. Duality gap: 1.369e+01, tolerance: 1.637e+00\n",
            "  model = cd_fast.enet_coordinate_descent(\n",
            "/usr/local/lib/python3.10/dist-packages/sklearn/linear_model/_coordinate_descent.py:631: ConvergenceWarning: Objective did not converge. You might want to increase the number of iterations, check the scale of the features or consider increasing regularisation. Duality gap: 1.300e+01, tolerance: 6.333e+00\n",
            "  model = cd_fast.enet_coordinate_descent(\n",
            "/usr/local/lib/python3.10/dist-packages/sklearn/linear_model/_coordinate_descent.py:631: ConvergenceWarning: Objective did not converge. You might want to increase the number of iterations, check the scale of the features or consider increasing regularisation. Duality gap: 1.700e+01, tolerance: 1.389e+01\n",
            "  model = cd_fast.enet_coordinate_descent(\n",
            "/usr/local/lib/python3.10/dist-packages/sklearn/linear_model/_coordinate_descent.py:631: ConvergenceWarning: Objective did not converge. You might want to increase the number of iterations, check the scale of the features or consider increasing regularisation. Duality gap: 2.613e+00, tolerance: 1.994e-01\n",
            "  model = cd_fast.enet_coordinate_descent(\n",
            "/usr/local/lib/python3.10/dist-packages/sklearn/linear_model/_coordinate_descent.py:631: ConvergenceWarning: Objective did not converge. You might want to increase the number of iterations, check the scale of the features or consider increasing regularisation. Duality gap: 3.792e+00, tolerance: 4.014e-01\n",
            "  model = cd_fast.enet_coordinate_descent(\n",
            "/usr/local/lib/python3.10/dist-packages/sklearn/linear_model/_coordinate_descent.py:631: ConvergenceWarning: Objective did not converge. You might want to increase the number of iterations, check the scale of the features or consider increasing regularisation. Duality gap: 4.089e+01, tolerance: 1.637e+00\n",
            "  model = cd_fast.enet_coordinate_descent(\n",
            "/usr/local/lib/python3.10/dist-packages/sklearn/linear_model/_coordinate_descent.py:631: ConvergenceWarning: Objective did not converge. You might want to increase the number of iterations, check the scale of the features or consider increasing regularisation. Duality gap: 2.867e+01, tolerance: 6.333e+00\n",
            "  model = cd_fast.enet_coordinate_descent(\n",
            "/usr/local/lib/python3.10/dist-packages/sklearn/linear_model/_coordinate_descent.py:631: ConvergenceWarning: Objective did not converge. You might want to increase the number of iterations, check the scale of the features or consider increasing regularisation. Duality gap: 4.485e+00, tolerance: 1.994e-01\n",
            "  model = cd_fast.enet_coordinate_descent(\n",
            "/usr/local/lib/python3.10/dist-packages/sklearn/linear_model/_coordinate_descent.py:631: ConvergenceWarning: Objective did not converge. You might want to increase the number of iterations, check the scale of the features or consider increasing regularisation. Duality gap: 4.166e+01, tolerance: 4.014e-01\n",
            "  model = cd_fast.enet_coordinate_descent(\n",
            "/usr/local/lib/python3.10/dist-packages/sklearn/linear_model/_coordinate_descent.py:631: ConvergenceWarning: Objective did not converge. You might want to increase the number of iterations, check the scale of the features or consider increasing regularisation. Duality gap: 1.166e+02, tolerance: 1.637e+00\n",
            "  model = cd_fast.enet_coordinate_descent(\n",
            "/usr/local/lib/python3.10/dist-packages/sklearn/linear_model/_coordinate_descent.py:631: ConvergenceWarning: Objective did not converge. You might want to increase the number of iterations, check the scale of the features or consider increasing regularisation. Duality gap: 1.212e+02, tolerance: 6.333e+00\n",
            "  model = cd_fast.enet_coordinate_descent(\n",
            "/usr/local/lib/python3.10/dist-packages/sklearn/linear_model/_coordinate_descent.py:631: ConvergenceWarning: Objective did not converge. You might want to increase the number of iterations, check the scale of the features or consider increasing regularisation. Duality gap: 4.150e+02, tolerance: 1.389e+01\n",
            "  model = cd_fast.enet_coordinate_descent(\n",
            "/usr/local/lib/python3.10/dist-packages/sklearn/linear_model/_coordinate_descent.py:631: ConvergenceWarning: Objective did not converge. You might want to increase the number of iterations, check the scale of the features or consider increasing regularisation. Duality gap: 3.034e+01, tolerance: 1.994e-01\n",
            "  model = cd_fast.enet_coordinate_descent(\n",
            "/usr/local/lib/python3.10/dist-packages/sklearn/linear_model/_coordinate_descent.py:631: ConvergenceWarning: Objective did not converge. You might want to increase the number of iterations, check the scale of the features or consider increasing regularisation. Duality gap: 7.071e+01, tolerance: 4.014e-01\n",
            "  model = cd_fast.enet_coordinate_descent(\n",
            "/usr/local/lib/python3.10/dist-packages/sklearn/linear_model/_coordinate_descent.py:631: ConvergenceWarning: Objective did not converge. You might want to increase the number of iterations, check the scale of the features or consider increasing regularisation. Duality gap: 1.092e+02, tolerance: 1.637e+00\n",
            "  model = cd_fast.enet_coordinate_descent(\n",
            "/usr/local/lib/python3.10/dist-packages/sklearn/linear_model/_coordinate_descent.py:631: ConvergenceWarning: Objective did not converge. You might want to increase the number of iterations, check the scale of the features or consider increasing regularisation. Duality gap: 2.505e+02, tolerance: 6.333e+00\n",
            "  model = cd_fast.enet_coordinate_descent(\n",
            "/usr/local/lib/python3.10/dist-packages/sklearn/linear_model/_coordinate_descent.py:631: ConvergenceWarning: Objective did not converge. You might want to increase the number of iterations, check the scale of the features or consider increasing regularisation. Duality gap: 2.666e+02, tolerance: 1.389e+01\n",
            "  model = cd_fast.enet_coordinate_descent(\n",
            "/usr/local/lib/python3.10/dist-packages/sklearn/linear_model/_coordinate_descent.py:631: ConvergenceWarning: Objective did not converge. You might want to increase the number of iterations, check the scale of the features or consider increasing regularisation. Duality gap: 3.352e+00, tolerance: 1.637e+00\n",
            "  model = cd_fast.enet_coordinate_descent(\n",
            "/usr/local/lib/python3.10/dist-packages/sklearn/linear_model/_coordinate_descent.py:631: ConvergenceWarning: Objective did not converge. You might want to increase the number of iterations, check the scale of the features or consider increasing regularisation. Duality gap: 1.927e+01, tolerance: 6.333e+00\n",
            "  model = cd_fast.enet_coordinate_descent(\n",
            "/usr/local/lib/python3.10/dist-packages/sklearn/linear_model/_coordinate_descent.py:631: ConvergenceWarning: Objective did not converge. You might want to increase the number of iterations, check the scale of the features or consider increasing regularisation. Duality gap: 2.287e+01, tolerance: 1.389e+01\n",
            "  model = cd_fast.enet_coordinate_descent(\n",
            "/usr/local/lib/python3.10/dist-packages/sklearn/linear_model/_coordinate_descent.py:631: ConvergenceWarning: Objective did not converge. You might want to increase the number of iterations, check the scale of the features or consider increasing regularisation. Duality gap: 4.022e+00, tolerance: 1.637e+00\n",
            "  model = cd_fast.enet_coordinate_descent(\n",
            "/usr/local/lib/python3.10/dist-packages/sklearn/linear_model/_coordinate_descent.py:631: ConvergenceWarning: Objective did not converge. You might want to increase the number of iterations, check the scale of the features or consider increasing regularisation. Duality gap: 1.926e+01, tolerance: 6.333e+00\n",
            "  model = cd_fast.enet_coordinate_descent(\n",
            "/usr/local/lib/python3.10/dist-packages/sklearn/linear_model/_coordinate_descent.py:631: ConvergenceWarning: Objective did not converge. You might want to increase the number of iterations, check the scale of the features or consider increasing regularisation. Duality gap: 6.417e+01, tolerance: 1.389e+01\n",
            "  model = cd_fast.enet_coordinate_descent(\n",
            "/usr/local/lib/python3.10/dist-packages/sklearn/linear_model/_coordinate_descent.py:631: ConvergenceWarning: Objective did not converge. You might want to increase the number of iterations, check the scale of the features or consider increasing regularisation. Duality gap: 6.891e+00, tolerance: 6.333e+00\n",
            "  model = cd_fast.enet_coordinate_descent(\n",
            "/usr/local/lib/python3.10/dist-packages/sklearn/linear_model/_coordinate_descent.py:631: ConvergenceWarning: Objective did not converge. You might want to increase the number of iterations, check the scale of the features or consider increasing regularisation. Duality gap: 2.120e+01, tolerance: 1.389e+01\n",
            "  model = cd_fast.enet_coordinate_descent(\n",
            "/usr/local/lib/python3.10/dist-packages/sklearn/linear_model/_coordinate_descent.py:631: ConvergenceWarning: Objective did not converge. You might want to increase the number of iterations, check the scale of the features or consider increasing regularisation. Duality gap: 6.892e+00, tolerance: 6.333e+00\n",
            "  model = cd_fast.enet_coordinate_descent(\n",
            "/usr/local/lib/python3.10/dist-packages/sklearn/linear_model/_coordinate_descent.py:631: ConvergenceWarning: Objective did not converge. You might want to increase the number of iterations, check the scale of the features or consider increasing regularisation. Duality gap: 2.047e+01, tolerance: 1.389e+01\n",
            "  model = cd_fast.enet_coordinate_descent(\n"
          ]
        },
        {
          "output_type": "stream",
          "name": "stdout",
          "text": [
            "Best Degree - 1\n",
            "Best Alpha - 0.001\n",
            "Best L1 Ratio - 0.9\n"
          ]
        }
      ]
    },
    {
      "cell_type": "code",
      "source": [
        "y_pred = elastic_net_grid_search.predict(X_test)"
      ],
      "metadata": {
        "id": "dr116PPNPwSQ"
      },
      "execution_count": 98,
      "outputs": []
    },
    {
      "cell_type": "code",
      "source": [
        "show_graph(y_test,y_pred,'Elastic Net')"
      ],
      "metadata": {
        "colab": {
          "base_uri": "https://localhost:8080/",
          "height": 452
        },
        "id": "8uditHPUQKmf",
        "outputId": "04faa9e9-117c-43df-ecfa-588928dc1b6b"
      },
      "execution_count": 99,
      "outputs": [
        {
          "output_type": "display_data",
          "data": {
            "text/plain": [
              "<Figure size 640x480 with 1 Axes>"
            ],
            "image/png": "[encoded data removed]"
          },
          "metadata": {}
        }
      ]
    },
    {
      "cell_type": "code",
      "source": [
        "model_evaluate(y_test,y_pred,'ElasticNet regression')"
      ],
      "metadata": {
        "id": "IIHM28SjMYmJ",
        "colab": {
          "base_uri": "https://localhost:8080/"
        },
        "outputId": "0206b1dd-9110-4f67-a857-85bc01145624"
      },
      "execution_count": 100,
      "outputs": [
        {
          "output_type": "stream",
          "name": "stdout",
          "text": [
            "ElasticNet regression - Mean Squared Error: 26.17222721544786\n",
            "ElasticNet regression - Mean Absolute Error: 4.316338010408895\n",
            "ElasticNet regression - R-squared: 0.8471291614206292\n"
          ]
        }
      ]
    },
    {
      "cell_type": "code",
      "source": [],
      "metadata": {
        "id": "A6pObquKMmdc"
      },
      "execution_count": null,
      "outputs": []
    }
  ]
}